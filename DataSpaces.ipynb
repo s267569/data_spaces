{
  "nbformat": 4,
  "nbformat_minor": 0,
  "metadata": {
    "colab": {
      "name": "DataSpaces.ipynb",
      "provenance": [],
      "collapsed_sections": []
    },
    "kernelspec": {
      "name": "python3",
      "display_name": "Python 3"
    },
    "accelerator": "GPU"
  },
  "cells": [
    {
      "cell_type": "markdown",
      "metadata": {
        "id": "oALTuHJNgLPI",
        "colab_type": "text"
      },
      "source": [
        "**Import library**"
      ]
    },
    {
      "cell_type": "code",
      "metadata": {
        "id": "L84OiKSu1WMX",
        "colab_type": "code",
        "outputId": "2a999f34-4239-4f86-c543-9af59827512f",
        "colab": {
          "base_uri": "https://localhost:8080/",
          "height": 71
        }
      },
      "source": [
        "import pandas as pd\n",
        "import csv\n",
        "import seaborn as sns\n",
        "import matplotlib.pyplot as plt\n",
        "from matplotlib.pyplot import *\n",
        "import warnings\n",
        "\n",
        "#Ignoriamo i possibili warnings che possiamo avere\n",
        "warnings.filterwarnings(\"ignore\")"
      ],
      "execution_count": 3,
      "outputs": [
        {
          "output_type": "stream",
          "text": [
            "/usr/local/lib/python3.6/dist-packages/statsmodels/tools/_testing.py:19: FutureWarning: pandas.util.testing is deprecated. Use the functions in the public API at pandas.testing instead.\n",
            "  import pandas.util.testing as tm\n"
          ],
          "name": "stderr"
        }
      ]
    },
    {
      "cell_type": "markdown",
      "metadata": {
        "id": "0fA_G7dr7Tbh",
        "colab_type": "text"
      },
      "source": [
        "**Import dataset**"
      ]
    },
    {
      "cell_type": "code",
      "metadata": {
        "id": "DjFTxTaSzk7u",
        "colab_type": "code",
        "outputId": "b697ee61-4bf7-4a43-b286-ab576712181f",
        "colab": {
          "base_uri": "https://localhost:8080/",
          "height": 221
        }
      },
      "source": [
        "data = pd.read_csv('/content/Indian Liver Patient Dataset (ILPD) 2.csv')    #Lettura del file train\n",
        "\n",
        "print(data.head())\n",
        "print(data.columns)\n",
        "print('entry totali per ilpd: ', len(data)) #Totale entry = 583"
      ],
      "execution_count": 4,
      "outputs": [
        {
          "output_type": "stream",
          "text": [
            "   age  gender  tot_bilirubin  ...  sgot  alkphos  is_patient\n",
            "0   65  Female            0.7  ...   3.3     0.90           1\n",
            "1   62    Male           10.9  ...   3.2     0.74           1\n",
            "2   62    Male            7.3  ...   3.3     0.89           1\n",
            "3   58    Male            1.0  ...   3.4     1.00           1\n",
            "4   72    Male            3.9  ...   2.4     0.40           1\n",
            "\n",
            "[5 rows x 11 columns]\n",
            "Index(['age', 'gender', 'tot_bilirubin', 'direct_bilirubin', 'tot_proteins',\n",
            "       'albumin', 'ag_ratio', 'sgpt', 'sgot', 'alkphos', 'is_patient'],\n",
            "      dtype='object')\n",
            "entry totali per ilpd:  583\n"
          ],
          "name": "stdout"
        }
      ]
    },
    {
      "cell_type": "code",
      "metadata": {
        "id": "zdc3090VvNc9",
        "colab_type": "code",
        "outputId": "e5871291-0efc-4bbe-b007-27612f7480a0",
        "colab": {
          "base_uri": "https://localhost:8080/",
          "height": 317
        }
      },
      "source": [
        "data.describe()"
      ],
      "execution_count": 5,
      "outputs": [
        {
          "output_type": "execute_result",
          "data": {
            "text/html": [
              "<div>\n",
              "<style scoped>\n",
              "    .dataframe tbody tr th:only-of-type {\n",
              "        vertical-align: middle;\n",
              "    }\n",
              "\n",
              "    .dataframe tbody tr th {\n",
              "        vertical-align: top;\n",
              "    }\n",
              "\n",
              "    .dataframe thead th {\n",
              "        text-align: right;\n",
              "    }\n",
              "</style>\n",
              "<table border=\"1\" class=\"dataframe\">\n",
              "  <thead>\n",
              "    <tr style=\"text-align: right;\">\n",
              "      <th></th>\n",
              "      <th>age</th>\n",
              "      <th>tot_bilirubin</th>\n",
              "      <th>direct_bilirubin</th>\n",
              "      <th>tot_proteins</th>\n",
              "      <th>albumin</th>\n",
              "      <th>ag_ratio</th>\n",
              "      <th>sgpt</th>\n",
              "      <th>sgot</th>\n",
              "      <th>alkphos</th>\n",
              "      <th>is_patient</th>\n",
              "    </tr>\n",
              "  </thead>\n",
              "  <tbody>\n",
              "    <tr>\n",
              "      <th>count</th>\n",
              "      <td>583.000000</td>\n",
              "      <td>583.000000</td>\n",
              "      <td>583.000000</td>\n",
              "      <td>583.000000</td>\n",
              "      <td>583.000000</td>\n",
              "      <td>583.000000</td>\n",
              "      <td>583.000000</td>\n",
              "      <td>583.000000</td>\n",
              "      <td>579.000000</td>\n",
              "      <td>583.000000</td>\n",
              "    </tr>\n",
              "    <tr>\n",
              "      <th>mean</th>\n",
              "      <td>44.746141</td>\n",
              "      <td>3.298799</td>\n",
              "      <td>1.486106</td>\n",
              "      <td>290.576329</td>\n",
              "      <td>80.713551</td>\n",
              "      <td>109.910806</td>\n",
              "      <td>6.483190</td>\n",
              "      <td>3.141852</td>\n",
              "      <td>0.947064</td>\n",
              "      <td>1.286449</td>\n",
              "    </tr>\n",
              "    <tr>\n",
              "      <th>std</th>\n",
              "      <td>16.189833</td>\n",
              "      <td>6.209522</td>\n",
              "      <td>2.808498</td>\n",
              "      <td>242.937989</td>\n",
              "      <td>182.620356</td>\n",
              "      <td>288.918529</td>\n",
              "      <td>1.085451</td>\n",
              "      <td>0.795519</td>\n",
              "      <td>0.319592</td>\n",
              "      <td>0.452490</td>\n",
              "    </tr>\n",
              "    <tr>\n",
              "      <th>min</th>\n",
              "      <td>4.000000</td>\n",
              "      <td>0.400000</td>\n",
              "      <td>0.100000</td>\n",
              "      <td>63.000000</td>\n",
              "      <td>10.000000</td>\n",
              "      <td>10.000000</td>\n",
              "      <td>2.700000</td>\n",
              "      <td>0.900000</td>\n",
              "      <td>0.300000</td>\n",
              "      <td>1.000000</td>\n",
              "    </tr>\n",
              "    <tr>\n",
              "      <th>25%</th>\n",
              "      <td>33.000000</td>\n",
              "      <td>0.800000</td>\n",
              "      <td>0.200000</td>\n",
              "      <td>175.500000</td>\n",
              "      <td>23.000000</td>\n",
              "      <td>25.000000</td>\n",
              "      <td>5.800000</td>\n",
              "      <td>2.600000</td>\n",
              "      <td>0.700000</td>\n",
              "      <td>1.000000</td>\n",
              "    </tr>\n",
              "    <tr>\n",
              "      <th>50%</th>\n",
              "      <td>45.000000</td>\n",
              "      <td>1.000000</td>\n",
              "      <td>0.300000</td>\n",
              "      <td>208.000000</td>\n",
              "      <td>35.000000</td>\n",
              "      <td>42.000000</td>\n",
              "      <td>6.600000</td>\n",
              "      <td>3.100000</td>\n",
              "      <td>0.930000</td>\n",
              "      <td>1.000000</td>\n",
              "    </tr>\n",
              "    <tr>\n",
              "      <th>75%</th>\n",
              "      <td>58.000000</td>\n",
              "      <td>2.600000</td>\n",
              "      <td>1.300000</td>\n",
              "      <td>298.000000</td>\n",
              "      <td>60.500000</td>\n",
              "      <td>87.000000</td>\n",
              "      <td>7.200000</td>\n",
              "      <td>3.800000</td>\n",
              "      <td>1.100000</td>\n",
              "      <td>2.000000</td>\n",
              "    </tr>\n",
              "    <tr>\n",
              "      <th>max</th>\n",
              "      <td>90.000000</td>\n",
              "      <td>75.000000</td>\n",
              "      <td>19.700000</td>\n",
              "      <td>2110.000000</td>\n",
              "      <td>2000.000000</td>\n",
              "      <td>4929.000000</td>\n",
              "      <td>9.600000</td>\n",
              "      <td>5.500000</td>\n",
              "      <td>2.800000</td>\n",
              "      <td>2.000000</td>\n",
              "    </tr>\n",
              "  </tbody>\n",
              "</table>\n",
              "</div>"
            ],
            "text/plain": [
              "              age  tot_bilirubin  ...     alkphos  is_patient\n",
              "count  583.000000     583.000000  ...  579.000000  583.000000\n",
              "mean    44.746141       3.298799  ...    0.947064    1.286449\n",
              "std     16.189833       6.209522  ...    0.319592    0.452490\n",
              "min      4.000000       0.400000  ...    0.300000    1.000000\n",
              "25%     33.000000       0.800000  ...    0.700000    1.000000\n",
              "50%     45.000000       1.000000  ...    0.930000    1.000000\n",
              "75%     58.000000       2.600000  ...    1.100000    2.000000\n",
              "max     90.000000      75.000000  ...    2.800000    2.000000\n",
              "\n",
              "[8 rows x 10 columns]"
            ]
          },
          "metadata": {
            "tags": []
          },
          "execution_count": 5
        }
      ]
    },
    {
      "cell_type": "markdown",
      "metadata": {
        "id": "3_AcyjTZUfsH",
        "colab_type": "text"
      },
      "source": [
        "**Data exploration (1) - clean dataset**"
      ]
    },
    {
      "cell_type": "code",
      "metadata": {
        "id": "zEErPaQG-sy4",
        "colab_type": "code",
        "outputId": "fa3173ac-1142-4991-b3b6-8857155ed19f",
        "colab": {
          "base_uri": "https://localhost:8080/",
          "height": 340
        }
      },
      "source": [
        "print(data.info())\n",
        "#Notiamo che l'attributo 'Gender' è una stringa che può essere male/female e quindi sostituiamo\n",
        "#male = 1; female = 0;\n",
        "mapping = {'Male':1, 'Female':0}        #Creo un dizionario\n",
        "data = data.replace({'gender':mapping}) #Faccio un replace all'attributo gender"
      ],
      "execution_count": 6,
      "outputs": [
        {
          "output_type": "stream",
          "text": [
            "<class 'pandas.core.frame.DataFrame'>\n",
            "RangeIndex: 583 entries, 0 to 582\n",
            "Data columns (total 11 columns):\n",
            " #   Column            Non-Null Count  Dtype  \n",
            "---  ------            --------------  -----  \n",
            " 0   age               583 non-null    int64  \n",
            " 1   gender            583 non-null    object \n",
            " 2   tot_bilirubin     583 non-null    float64\n",
            " 3   direct_bilirubin  583 non-null    float64\n",
            " 4   tot_proteins      583 non-null    int64  \n",
            " 5   albumin           583 non-null    int64  \n",
            " 6   ag_ratio          583 non-null    int64  \n",
            " 7   sgpt              583 non-null    float64\n",
            " 8   sgot              583 non-null    float64\n",
            " 9   alkphos           579 non-null    float64\n",
            " 10  is_patient        583 non-null    int64  \n",
            "dtypes: float64(5), int64(5), object(1)\n",
            "memory usage: 50.2+ KB\n",
            "None\n"
          ],
          "name": "stdout"
        }
      ]
    },
    {
      "cell_type": "code",
      "metadata": {
        "id": "05VyYoEBLMKF",
        "colab_type": "code",
        "outputId": "bf936eea-23c8-4e27-da8f-c921452ef7a9",
        "colab": {
          "base_uri": "https://localhost:8080/",
          "height": 221
        }
      },
      "source": [
        "#Vediamo se esistono NaN \n",
        "nullValue = data.isnull().sum()\n",
        "print('I valori nulli sono: ', nullValue)\n",
        "\n",
        "#Di seguito sostituiamo tutti i NaN con 0\n",
        "data.fillna({'alkphos':0}, inplace=True)\n"
      ],
      "execution_count": 7,
      "outputs": [
        {
          "output_type": "stream",
          "text": [
            "I valori nulli sono:  age                 0\n",
            "gender              0\n",
            "tot_bilirubin       0\n",
            "direct_bilirubin    0\n",
            "tot_proteins        0\n",
            "albumin             0\n",
            "ag_ratio            0\n",
            "sgpt                0\n",
            "sgot                0\n",
            "alkphos             4\n",
            "is_patient          0\n",
            "dtype: int64\n"
          ],
          "name": "stdout"
        }
      ]
    },
    {
      "cell_type": "markdown",
      "metadata": {
        "id": "_OJwVBFBA9UO",
        "colab_type": "text"
      },
      "source": [
        "**Pie chart - diagnosi e gender pazienti**"
      ]
    },
    {
      "cell_type": "code",
      "metadata": {
        "id": "JysHX4aY-VZM",
        "colab_type": "code",
        "outputId": "a66deb26-c5aa-40fa-9257-270e1ee65fbe",
        "colab": {
          "base_uri": "https://localhost:8080/",
          "height": 318
        }
      },
      "source": [
        "target_counts = data['is_patient'].value_counts().values\n",
        "gender_counts=data['gender'].value_counts().values\n",
        "\n",
        "fig1, axes = plt.subplots(nrows=1, ncols=2, figsize=(10,5))\n",
        "\n",
        "target_sizes = data.groupby('is_patient').size()\n",
        "axes[0].pie(x=target_counts, \n",
        "            labels=['patient({})'.format(target_sizes[1]), 'not_patient({})'.format(target_sizes[2])],\n",
        "            autopct='%1.1f%%')\n",
        "axes[0].set_title('Diagnosi pazienti')\n",
        "\n",
        "gender_sizes = data.groupby('gender').size()\n",
        "axes[1].pie(x=gender_counts,\n",
        "            labels=['male({})'.format(gender_sizes[1]), 'female({})'.format(gender_sizes[0])],\n",
        "            autopct=\"%1.1f%%\")\n",
        "axes[1].set_title('Genere pazienti')\n"
      ],
      "execution_count": 8,
      "outputs": [
        {
          "output_type": "execute_result",
          "data": {
            "text/plain": [
              "Text(0.5, 1.0, 'Genere pazienti')"
            ]
          },
          "metadata": {
            "tags": []
          },
          "execution_count": 8
        },
        {
          "output_type": "display_data",
          "data": {
            "image/png": "[encoded data removed]",
            "text/plain": [
              "<Figure size 720x360 with 2 Axes>"
            ]
          },
          "metadata": {
            "tags": []
          }
        }
      ]
    },
    {
      "cell_type": "code",
      "metadata": {
        "id": "-jKcCcY5Grnx",
        "colab_type": "code",
        "outputId": "5c36786e-e182-4687-f559-6a8112038c68",
        "colab": {
          "base_uri": "https://localhost:8080/",
          "height": 265
        }
      },
      "source": [
        "fig, ax = subplots()\n",
        "df = data.groupby('gender').age\n",
        "df.plot(kind='kde', ax=ax)    #kde = Kernel Density Estimation plot\n",
        "ax.legend([\"0 Female\", \"1 Male\"]);"
      ],
      "execution_count": 9,
      "outputs": [
        {
          "output_type": "display_data",
          "data": {
            "image/png": "[encoded data removed]",
            "text/plain": [
              "<Figure size 432x288 with 1 Axes>"
            ]
          },
          "metadata": {
            "tags": [],
            "needs_background": "light"
          }
        }
      ]
    },
    {
      "cell_type": "code",
      "metadata": {
        "id": "SdRXropAFKrG",
        "colab_type": "code",
        "outputId": "1f2652d2-8527-4cc6-b639-7e54f550bec6",
        "colab": {
          "base_uri": "https://localhost:8080/",
          "height": 296
        }
      },
      "source": [
        "#Numeri di is_patient =1 e =2 divisi per gender \n",
        "sns.countplot(y=data.is_patient, hue=data.gender)"
      ],
      "execution_count": 10,
      "outputs": [
        {
          "output_type": "execute_result",
          "data": {
            "text/plain": [
              "<matplotlib.axes._subplots.AxesSubplot at 0x7f0399b77b70>"
            ]
          },
          "metadata": {
            "tags": []
          },
          "execution_count": 10
        },
        {
          "output_type": "display_data",
          "data": {
            "image/png": "[encoded data removed]",
            "text/plain": [
              "<Figure size 432x288 with 1 Axes>"
            ]
          },
          "metadata": {
            "tags": [],
            "needs_background": "light"
          }
        }
      ]
    },
    {
      "cell_type": "markdown",
      "metadata": {
        "id": "qQmOQgjaP8KJ",
        "colab_type": "text"
      },
      "source": [
        "**LabelEncoder del genere**"
      ]
    },
    {
      "cell_type": "code",
      "metadata": {
        "id": "B3R-rh_lP-q6",
        "colab_type": "code",
        "outputId": "b00ee883-bf65-4cc3-b115-886d217c36c3",
        "colab": {
          "base_uri": "https://localhost:8080/",
          "height": 204
        }
      },
      "source": [
        "from sklearn.preprocessing import LabelEncoder\n",
        "\n",
        "le = LabelEncoder()\n",
        "data.gender = le.fit_transform(data.gender)\n",
        "data.head()"
      ],
      "execution_count": 11,
      "outputs": [
        {
          "output_type": "execute_result",
          "data": {
            "text/html": [
              "<div>\n",
              "<style scoped>\n",
              "    .dataframe tbody tr th:only-of-type {\n",
              "        vertical-align: middle;\n",
              "    }\n",
              "\n",
              "    .dataframe tbody tr th {\n",
              "        vertical-align: top;\n",
              "    }\n",
              "\n",
              "    .dataframe thead th {\n",
              "        text-align: right;\n",
              "    }\n",
              "</style>\n",
              "<table border=\"1\" class=\"dataframe\">\n",
              "  <thead>\n",
              "    <tr style=\"text-align: right;\">\n",
              "      <th></th>\n",
              "      <th>age</th>\n",
              "      <th>gender</th>\n",
              "      <th>tot_bilirubin</th>\n",
              "      <th>direct_bilirubin</th>\n",
              "      <th>tot_proteins</th>\n",
              "      <th>albumin</th>\n",
              "      <th>ag_ratio</th>\n",
              "      <th>sgpt</th>\n",
              "      <th>sgot</th>\n",
              "      <th>alkphos</th>\n",
              "      <th>is_patient</th>\n",
              "    </tr>\n",
              "  </thead>\n",
              "  <tbody>\n",
              "    <tr>\n",
              "      <th>0</th>\n",
              "      <td>65</td>\n",
              "      <td>0</td>\n",
              "      <td>0.7</td>\n",
              "      <td>0.1</td>\n",
              "      <td>187</td>\n",
              "      <td>16</td>\n",
              "      <td>18</td>\n",
              "      <td>6.8</td>\n",
              "      <td>3.3</td>\n",
              "      <td>0.90</td>\n",
              "      <td>1</td>\n",
              "    </tr>\n",
              "    <tr>\n",
              "      <th>1</th>\n",
              "      <td>62</td>\n",
              "      <td>1</td>\n",
              "      <td>10.9</td>\n",
              "      <td>5.5</td>\n",
              "      <td>699</td>\n",
              "      <td>64</td>\n",
              "      <td>100</td>\n",
              "      <td>7.5</td>\n",
              "      <td>3.2</td>\n",
              "      <td>0.74</td>\n",
              "      <td>1</td>\n",
              "    </tr>\n",
              "    <tr>\n",
              "      <th>2</th>\n",
              "      <td>62</td>\n",
              "      <td>1</td>\n",
              "      <td>7.3</td>\n",
              "      <td>4.1</td>\n",
              "      <td>490</td>\n",
              "      <td>60</td>\n",
              "      <td>68</td>\n",
              "      <td>7.0</td>\n",
              "      <td>3.3</td>\n",
              "      <td>0.89</td>\n",
              "      <td>1</td>\n",
              "    </tr>\n",
              "    <tr>\n",
              "      <th>3</th>\n",
              "      <td>58</td>\n",
              "      <td>1</td>\n",
              "      <td>1.0</td>\n",
              "      <td>0.4</td>\n",
              "      <td>182</td>\n",
              "      <td>14</td>\n",
              "      <td>20</td>\n",
              "      <td>6.8</td>\n",
              "      <td>3.4</td>\n",
              "      <td>1.00</td>\n",
              "      <td>1</td>\n",
              "    </tr>\n",
              "    <tr>\n",
              "      <th>4</th>\n",
              "      <td>72</td>\n",
              "      <td>1</td>\n",
              "      <td>3.9</td>\n",
              "      <td>2.0</td>\n",
              "      <td>195</td>\n",
              "      <td>27</td>\n",
              "      <td>59</td>\n",
              "      <td>7.3</td>\n",
              "      <td>2.4</td>\n",
              "      <td>0.40</td>\n",
              "      <td>1</td>\n",
              "    </tr>\n",
              "  </tbody>\n",
              "</table>\n",
              "</div>"
            ],
            "text/plain": [
              "   age  gender  tot_bilirubin  ...  sgot  alkphos  is_patient\n",
              "0   65       0            0.7  ...   3.3     0.90           1\n",
              "1   62       1           10.9  ...   3.2     0.74           1\n",
              "2   62       1            7.3  ...   3.3     0.89           1\n",
              "3   58       1            1.0  ...   3.4     1.00           1\n",
              "4   72       1            3.9  ...   2.4     0.40           1\n",
              "\n",
              "[5 rows x 11 columns]"
            ]
          },
          "metadata": {
            "tags": []
          },
          "execution_count": 11
        }
      ]
    },
    {
      "cell_type": "code",
      "metadata": {
        "id": "0GT64Nw66krM",
        "colab_type": "code",
        "colab": {}
      },
      "source": [
        "data_original = data.copy()"
      ],
      "execution_count": 0,
      "outputs": []
    },
    {
      "cell_type": "markdown",
      "metadata": {
        "id": "D_xPKoP2Hp9y",
        "colab_type": "text"
      },
      "source": [
        "**Normalizzazione dei dati**"
      ]
    },
    {
      "cell_type": "code",
      "metadata": {
        "id": "maznphLdHtAE",
        "colab_type": "code",
        "colab": {}
      },
      "source": [
        "from sklearn.preprocessing import MinMaxScaler\n",
        "\n",
        "features=['age', 'gender', 'tot_bilirubin', 'direct_bilirubin','tot_proteins', 'albumin', 'ag_ratio','sgpt','sgot','alkphos','is_patient']\n",
        "mms = MinMaxScaler()\n",
        "data = mms.fit_transform(data)\n"
      ],
      "execution_count": 0,
      "outputs": []
    },
    {
      "cell_type": "code",
      "metadata": {
        "id": "VIqCOcIfS_3R",
        "colab_type": "code",
        "colab": {}
      },
      "source": [
        "data = pd.DataFrame(data=data, columns=features)"
      ],
      "execution_count": 0,
      "outputs": []
    },
    {
      "cell_type": "code",
      "metadata": {
        "id": "MtQjm4W-TJtr",
        "colab_type": "code",
        "outputId": "10254ada-8a34-431e-9642-0625ae8e850d",
        "colab": {
          "base_uri": "https://localhost:8080/",
          "height": 204
        }
      },
      "source": [
        "data.head()"
      ],
      "execution_count": 15,
      "outputs": [
        {
          "output_type": "execute_result",
          "data": {
            "text/html": [
              "<div>\n",
              "<style scoped>\n",
              "    .dataframe tbody tr th:only-of-type {\n",
              "        vertical-align: middle;\n",
              "    }\n",
              "\n",
              "    .dataframe tbody tr th {\n",
              "        vertical-align: top;\n",
              "    }\n",
              "\n",
              "    .dataframe thead th {\n",
              "        text-align: right;\n",
              "    }\n",
              "</style>\n",
              "<table border=\"1\" class=\"dataframe\">\n",
              "  <thead>\n",
              "    <tr style=\"text-align: right;\">\n",
              "      <th></th>\n",
              "      <th>age</th>\n",
              "      <th>gender</th>\n",
              "      <th>tot_bilirubin</th>\n",
              "      <th>direct_bilirubin</th>\n",
              "      <th>tot_proteins</th>\n",
              "      <th>albumin</th>\n",
              "      <th>ag_ratio</th>\n",
              "      <th>sgpt</th>\n",
              "      <th>sgot</th>\n",
              "      <th>alkphos</th>\n",
              "      <th>is_patient</th>\n",
              "    </tr>\n",
              "  </thead>\n",
              "  <tbody>\n",
              "    <tr>\n",
              "      <th>0</th>\n",
              "      <td>0.709302</td>\n",
              "      <td>0.0</td>\n",
              "      <td>0.004021</td>\n",
              "      <td>0.000000</td>\n",
              "      <td>0.060576</td>\n",
              "      <td>0.003015</td>\n",
              "      <td>0.001626</td>\n",
              "      <td>0.594203</td>\n",
              "      <td>0.521739</td>\n",
              "      <td>0.321429</td>\n",
              "      <td>0.0</td>\n",
              "    </tr>\n",
              "    <tr>\n",
              "      <th>1</th>\n",
              "      <td>0.674419</td>\n",
              "      <td>1.0</td>\n",
              "      <td>0.140751</td>\n",
              "      <td>0.275510</td>\n",
              "      <td>0.310699</td>\n",
              "      <td>0.027136</td>\n",
              "      <td>0.018296</td>\n",
              "      <td>0.695652</td>\n",
              "      <td>0.500000</td>\n",
              "      <td>0.264286</td>\n",
              "      <td>0.0</td>\n",
              "    </tr>\n",
              "    <tr>\n",
              "      <th>2</th>\n",
              "      <td>0.674419</td>\n",
              "      <td>1.0</td>\n",
              "      <td>0.092493</td>\n",
              "      <td>0.204082</td>\n",
              "      <td>0.208598</td>\n",
              "      <td>0.025126</td>\n",
              "      <td>0.011791</td>\n",
              "      <td>0.623188</td>\n",
              "      <td>0.521739</td>\n",
              "      <td>0.317857</td>\n",
              "      <td>0.0</td>\n",
              "    </tr>\n",
              "    <tr>\n",
              "      <th>3</th>\n",
              "      <td>0.627907</td>\n",
              "      <td>1.0</td>\n",
              "      <td>0.008043</td>\n",
              "      <td>0.015306</td>\n",
              "      <td>0.058134</td>\n",
              "      <td>0.002010</td>\n",
              "      <td>0.002033</td>\n",
              "      <td>0.594203</td>\n",
              "      <td>0.543478</td>\n",
              "      <td>0.357143</td>\n",
              "      <td>0.0</td>\n",
              "    </tr>\n",
              "    <tr>\n",
              "      <th>4</th>\n",
              "      <td>0.790698</td>\n",
              "      <td>1.0</td>\n",
              "      <td>0.046917</td>\n",
              "      <td>0.096939</td>\n",
              "      <td>0.064485</td>\n",
              "      <td>0.008543</td>\n",
              "      <td>0.009961</td>\n",
              "      <td>0.666667</td>\n",
              "      <td>0.326087</td>\n",
              "      <td>0.142857</td>\n",
              "      <td>0.0</td>\n",
              "    </tr>\n",
              "  </tbody>\n",
              "</table>\n",
              "</div>"
            ],
            "text/plain": [
              "        age  gender  tot_bilirubin  ...      sgot   alkphos  is_patient\n",
              "0  0.709302     0.0       0.004021  ...  0.521739  0.321429         0.0\n",
              "1  0.674419     1.0       0.140751  ...  0.500000  0.264286         0.0\n",
              "2  0.674419     1.0       0.092493  ...  0.521739  0.317857         0.0\n",
              "3  0.627907     1.0       0.008043  ...  0.543478  0.357143         0.0\n",
              "4  0.790698     1.0       0.046917  ...  0.326087  0.142857         0.0\n",
              "\n",
              "[5 rows x 11 columns]"
            ]
          },
          "metadata": {
            "tags": []
          },
          "execution_count": 15
        }
      ]
    },
    {
      "cell_type": "markdown",
      "metadata": {
        "id": "_yatLcGd6rmr",
        "colab_type": "text"
      },
      "source": [
        "**Plot prima e dopo della normalizzazione**"
      ]
    },
    {
      "cell_type": "code",
      "metadata": {
        "id": "xS93GUbL6pT3",
        "colab_type": "code",
        "outputId": "ba3f9405-4d4f-4858-f7ae-27f019dbb010",
        "colab": {
          "base_uri": "https://localhost:8080/",
          "height": 298
        }
      },
      "source": [
        "fig, ax = plt.subplots(1,2)\n",
        "sns.distplot(data_original, ax=ax[0])\n",
        "ax[0].set_title('Original Data')\n",
        "sns.distplot(data, ax=ax[1])\n",
        "ax[1].set_title('Normalized data')"
      ],
      "execution_count": 16,
      "outputs": [
        {
          "output_type": "execute_result",
          "data": {
            "text/plain": [
              "Text(0.5, 1.0, 'Normalized data')"
            ]
          },
          "metadata": {
            "tags": []
          },
          "execution_count": 16
        },
        {
          "output_type": "display_data",
          "data": {
            "image/png": "[encoded data removed]",
            "text/plain": [
              "<Figure size 432x288 with 2 Axes>"
            ]
          },
          "metadata": {
            "tags": [],
            "needs_background": "light"
          }
        }
      ]
    },
    {
      "cell_type": "markdown",
      "metadata": {
        "id": "DT_ic--iHnLJ",
        "colab_type": "text"
      },
      "source": [
        "**Matrice di correlazione**"
      ]
    },
    {
      "cell_type": "code",
      "metadata": {
        "id": "0R4-UPcYVVvm",
        "colab_type": "code",
        "outputId": "a233c955-a248-4cf5-b511-2f66c11a893e",
        "colab": {
          "base_uri": "https://localhost:8080/",
          "height": 619
        }
      },
      "source": [
        "corr = data.corr()\n",
        "\n",
        "# Generate a mask for the upper triangle\n",
        "mask = np.triu(np.ones_like(corr, dtype=np.bool))\n",
        "\n",
        "# Set up the matplotlib figure\n",
        "f, ax = plt.subplots(figsize=(11, 9))\n",
        "\n",
        "# Generate a custom diverging colormap\n",
        "cmap = sns.diverging_palette(220, 10, as_cmap=True)\n",
        "\n",
        "# Draw the heatmap with the mask and correct aspect ratio\n",
        "sns.heatmap(corr, mask=mask, cmap=cmap, vmax=.5, center=0,\n",
        "            square=True, linewidths=.5, cbar_kws={\"shrink\": .3})\n"
      ],
      "execution_count": 17,
      "outputs": [
        {
          "output_type": "execute_result",
          "data": {
            "text/plain": [
              "<matplotlib.axes._subplots.AxesSubplot at 0x7f0399965e80>"
            ]
          },
          "metadata": {
            "tags": []
          },
          "execution_count": 17
        },
        {
          "output_type": "display_data",
          "data": {
            "image/png": "[encoded data removed]",
            "text/plain": [
              "<Figure size 792x648 with 2 Axes>"
            ]
          },
          "metadata": {
            "tags": [],
            "needs_background": "light"
          }
        }
      ]
    },
    {
      "cell_type": "markdown",
      "metadata": {
        "id": "0_p3wzbgofjq",
        "colab_type": "text"
      },
      "source": [
        "**Correlation Matrix (II Parte)**"
      ]
    },
    {
      "cell_type": "code",
      "metadata": {
        "id": "_SPJ4-SJB9sV",
        "colab_type": "code",
        "outputId": "608df4d4-398f-42fa-cd94-2633e22c13f9",
        "colab": {
          "base_uri": "https://localhost:8080/",
          "height": 623
        }
      },
      "source": [
        "f, ax = plt.subplots(figsize=(11, 9))\n",
        "sns.heatmap(corr)"
      ],
      "execution_count": 18,
      "outputs": [
        {
          "output_type": "execute_result",
          "data": {
            "text/plain": [
              "<matplotlib.axes._subplots.AxesSubplot at 0x7f03999597f0>"
            ]
          },
          "metadata": {
            "tags": []
          },
          "execution_count": 18
        },
        {
          "output_type": "display_data",
          "data": {
            "image/png": "[encoded data removed]",
            "text/plain": [
              "<Figure size 792x648 with 2 Axes>"
            ]
          },
          "metadata": {
            "tags": [],
            "needs_background": "light"
          }
        }
      ]
    },
    {
      "cell_type": "markdown",
      "metadata": {
        "id": "qcLOkNyvoZyJ",
        "colab_type": "text"
      },
      "source": [
        "**Correlation matrix (III Parte)**"
      ]
    },
    {
      "cell_type": "code",
      "metadata": {
        "id": "DF3kdHfP7FbA",
        "colab_type": "code",
        "outputId": "c99f4007-8d38-4927-91f9-6380e2f30da2",
        "colab": {
          "base_uri": "https://localhost:8080/",
          "height": 271
        }
      },
      "source": [
        "corr = data.corr()\n",
        "corr.style.background_gradient(cmap='coolwarm')"
      ],
      "execution_count": 19,
      "outputs": [
        {
          "output_type": "execute_result",
          "data": {
            "text/html": [
              "<style  type=\"text/css\" >\n",
              "    #T_c9854738_8ac9_11ea_9945_0242ac1c0002row0_col0 {\n",
              "            background-color:  #b40426;\n",
              "            color:  #f1f1f1;\n",
              "        }    #T_c9854738_8ac9_11ea_9945_0242ac1c0002row0_col1 {\n",
              "            background-color:  #6687ed;\n",
              "            color:  #000000;\n",
              "        }    #T_c9854738_8ac9_11ea_9945_0242ac1c0002row0_col2 {\n",
              "            background-color:  #799cf8;\n",
              "            color:  #000000;\n",
              "        }    #T_c9854738_8ac9_11ea_9945_0242ac1c0002row0_col3 {\n",
              "            background-color:  #7da0f9;\n",
              "            color:  #000000;\n",
              "        }    #T_c9854738_8ac9_11ea_9945_0242ac1c0002row0_col4 {\n",
              "            background-color:  #8badfd;\n",
              "            color:  #000000;\n",
              "        }    #T_c9854738_8ac9_11ea_9945_0242ac1c0002row0_col5 {\n",
              "            background-color:  #4e68d8;\n",
              "            color:  #000000;\n",
              "        }    #T_c9854738_8ac9_11ea_9945_0242ac1c0002row0_col6 {\n",
              "            background-color:  #5e7de7;\n",
              "            color:  #000000;\n",
              "        }    #T_c9854738_8ac9_11ea_9945_0242ac1c0002row0_col7 {\n",
              "            background-color:  #3b4cc0;\n",
              "            color:  #f1f1f1;\n",
              "        }    #T_c9854738_8ac9_11ea_9945_0242ac1c0002row0_col8 {\n",
              "            background-color:  #3b4cc0;\n",
              "            color:  #f1f1f1;\n",
              "        }    #T_c9854738_8ac9_11ea_9945_0242ac1c0002row0_col9 {\n",
              "            background-color:  #3e51c5;\n",
              "            color:  #f1f1f1;\n",
              "        }    #T_c9854738_8ac9_11ea_9945_0242ac1c0002row0_col10 {\n",
              "            background-color:  #5572df;\n",
              "            color:  #000000;\n",
              "        }    #T_c9854738_8ac9_11ea_9945_0242ac1c0002row1_col0 {\n",
              "            background-color:  #8fb1fe;\n",
              "            color:  #000000;\n",
              "        }    #T_c9854738_8ac9_11ea_9945_0242ac1c0002row1_col1 {\n",
              "            background-color:  #b40426;\n",
              "            color:  #f1f1f1;\n",
              "        }    #T_c9854738_8ac9_11ea_9945_0242ac1c0002row1_col2 {\n",
              "            background-color:  #8fb1fe;\n",
              "            color:  #000000;\n",
              "        }    #T_c9854738_8ac9_11ea_9945_0242ac1c0002row1_col3 {\n",
              "            background-color:  #97b8ff;\n",
              "            color:  #000000;\n",
              "        }    #T_c9854738_8ac9_11ea_9945_0242ac1c0002row1_col4 {\n",
              "            background-color:  #6c8ff1;\n",
              "            color:  #000000;\n",
              "        }    #T_c9854738_8ac9_11ea_9945_0242ac1c0002row1_col5 {\n",
              "            background-color:  #80a3fa;\n",
              "            color:  #000000;\n",
              "        }    #T_c9854738_8ac9_11ea_9945_0242ac1c0002row1_col6 {\n",
              "            background-color:  #7b9ff9;\n",
              "            color:  #000000;\n",
              "        }    #T_c9854738_8ac9_11ea_9945_0242ac1c0002row1_col7 {\n",
              "            background-color:  #5470de;\n",
              "            color:  #000000;\n",
              "        }    #T_c9854738_8ac9_11ea_9945_0242ac1c0002row1_col8 {\n",
              "            background-color:  #6485ec;\n",
              "            color:  #000000;\n",
              "        }    #T_c9854738_8ac9_11ea_9945_0242ac1c0002row1_col9 {\n",
              "            background-color:  #7699f6;\n",
              "            color:  #000000;\n",
              "        }    #T_c9854738_8ac9_11ea_9945_0242ac1c0002row1_col10 {\n",
              "            background-color:  #6384eb;\n",
              "            color:  #000000;\n",
              "        }    #T_c9854738_8ac9_11ea_9945_0242ac1c0002row2_col0 {\n",
              "            background-color:  #82a6fb;\n",
              "            color:  #000000;\n",
              "        }    #T_c9854738_8ac9_11ea_9945_0242ac1c0002row2_col1 {\n",
              "            background-color:  #6f92f3;\n",
              "            color:  #000000;\n",
              "        }    #T_c9854738_8ac9_11ea_9945_0242ac1c0002row2_col2 {\n",
              "            background-color:  #b40426;\n",
              "            color:  #f1f1f1;\n",
              "        }    #T_c9854738_8ac9_11ea_9945_0242ac1c0002row2_col3 {\n",
              "            background-color:  #d65244;\n",
              "            color:  #000000;\n",
              "        }    #T_c9854738_8ac9_11ea_9945_0242ac1c0002row2_col4 {\n",
              "            background-color:  #afcafc;\n",
              "            color:  #000000;\n",
              "        }    #T_c9854738_8ac9_11ea_9945_0242ac1c0002row2_col5 {\n",
              "            background-color:  #a7c5fe;\n",
              "            color:  #000000;\n",
              "        }    #T_c9854738_8ac9_11ea_9945_0242ac1c0002row2_col6 {\n",
              "            background-color:  #abc8fd;\n",
              "            color:  #000000;\n",
              "        }    #T_c9854738_8ac9_11ea_9945_0242ac1c0002row2_col7 {\n",
              "            background-color:  #6a8bef;\n",
              "            color:  #000000;\n",
              "        }    #T_c9854738_8ac9_11ea_9945_0242ac1c0002row2_col8 {\n",
              "            background-color:  #445acc;\n",
              "            color:  #f1f1f1;\n",
              "        }    #T_c9854738_8ac9_11ea_9945_0242ac1c0002row2_col9 {\n",
              "            background-color:  #4055c8;\n",
              "            color:  #f1f1f1;\n",
              "        }    #T_c9854738_8ac9_11ea_9945_0242ac1c0002row2_col10 {\n",
              "            background-color:  #4055c8;\n",
              "            color:  #f1f1f1;\n",
              "        }    #T_c9854738_8ac9_11ea_9945_0242ac1c0002row3_col0 {\n",
              "            background-color:  #81a4fb;\n",
              "            color:  #000000;\n",
              "        }    #T_c9854738_8ac9_11ea_9945_0242ac1c0002row3_col1 {\n",
              "            background-color:  #7396f5;\n",
              "            color:  #000000;\n",
              "        }    #T_c9854738_8ac9_11ea_9945_0242ac1c0002row3_col2 {\n",
              "            background-color:  #d75445;\n",
              "            color:  #000000;\n",
              "        }    #T_c9854738_8ac9_11ea_9945_0242ac1c0002row3_col3 {\n",
              "            background-color:  #b40426;\n",
              "            color:  #f1f1f1;\n",
              "        }    #T_c9854738_8ac9_11ea_9945_0242ac1c0002row3_col4 {\n",
              "            background-color:  #b7cff9;\n",
              "            color:  #000000;\n",
              "        }    #T_c9854738_8ac9_11ea_9945_0242ac1c0002row3_col5 {\n",
              "            background-color:  #adc9fd;\n",
              "            color:  #000000;\n",
              "        }    #T_c9854738_8ac9_11ea_9945_0242ac1c0002row3_col6 {\n",
              "            background-color:  #b2ccfb;\n",
              "            color:  #000000;\n",
              "        }    #T_c9854738_8ac9_11ea_9945_0242ac1c0002row3_col7 {\n",
              "            background-color:  #6c8ff1;\n",
              "            color:  #000000;\n",
              "        }    #T_c9854738_8ac9_11ea_9945_0242ac1c0002row3_col8 {\n",
              "            background-color:  #4358cb;\n",
              "            color:  #f1f1f1;\n",
              "        }    #T_c9854738_8ac9_11ea_9945_0242ac1c0002row3_col9 {\n",
              "            background-color:  #4257c9;\n",
              "            color:  #f1f1f1;\n",
              "        }    #T_c9854738_8ac9_11ea_9945_0242ac1c0002row3_col10 {\n",
              "            background-color:  #3b4cc0;\n",
              "            color:  #f1f1f1;\n",
              "        }    #T_c9854738_8ac9_11ea_9945_0242ac1c0002row4_col0 {\n",
              "            background-color:  #96b7ff;\n",
              "            color:  #000000;\n",
              "        }    #T_c9854738_8ac9_11ea_9945_0242ac1c0002row4_col1 {\n",
              "            background-color:  #4c66d6;\n",
              "            color:  #000000;\n",
              "        }    #T_c9854738_8ac9_11ea_9945_0242ac1c0002row4_col2 {\n",
              "            background-color:  #afcafc;\n",
              "            color:  #000000;\n",
              "        }    #T_c9854738_8ac9_11ea_9945_0242ac1c0002row4_col3 {\n",
              "            background-color:  #bbd1f8;\n",
              "            color:  #000000;\n",
              "        }    #T_c9854738_8ac9_11ea_9945_0242ac1c0002row4_col4 {\n",
              "            background-color:  #b40426;\n",
              "            color:  #f1f1f1;\n",
              "        }    #T_c9854738_8ac9_11ea_9945_0242ac1c0002row4_col5 {\n",
              "            background-color:  #8caffe;\n",
              "            color:  #000000;\n",
              "        }    #T_c9854738_8ac9_11ea_9945_0242ac1c0002row4_col6 {\n",
              "            background-color:  #96b7ff;\n",
              "            color:  #000000;\n",
              "        }    #T_c9854738_8ac9_11ea_9945_0242ac1c0002row4_col7 {\n",
              "            background-color:  #6485ec;\n",
              "            color:  #000000;\n",
              "        }    #T_c9854738_8ac9_11ea_9945_0242ac1c0002row4_col8 {\n",
              "            background-color:  #536edd;\n",
              "            color:  #000000;\n",
              "        }    #T_c9854738_8ac9_11ea_9945_0242ac1c0002row4_col9 {\n",
              "            background-color:  #3b4cc0;\n",
              "            color:  #f1f1f1;\n",
              "        }    #T_c9854738_8ac9_11ea_9945_0242ac1c0002row4_col10 {\n",
              "            background-color:  #4961d2;\n",
              "            color:  #f1f1f1;\n",
              "        }    #T_c9854738_8ac9_11ea_9945_0242ac1c0002row5_col0 {\n",
              "            background-color:  #6788ee;\n",
              "            color:  #000000;\n",
              "        }    #T_c9854738_8ac9_11ea_9945_0242ac1c0002row5_col1 {\n",
              "            background-color:  #6e90f2;\n",
              "            color:  #000000;\n",
              "        }    #T_c9854738_8ac9_11ea_9945_0242ac1c0002row5_col2 {\n",
              "            background-color:  #b2ccfb;\n",
              "            color:  #000000;\n",
              "        }    #T_c9854738_8ac9_11ea_9945_0242ac1c0002row5_col3 {\n",
              "            background-color:  #bbd1f8;\n",
              "            color:  #000000;\n",
              "        }    #T_c9854738_8ac9_11ea_9945_0242ac1c0002row5_col4 {\n",
              "            background-color:  #98b9ff;\n",
              "            color:  #000000;\n",
              "        }    #T_c9854738_8ac9_11ea_9945_0242ac1c0002row5_col5 {\n",
              "            background-color:  #b40426;\n",
              "            color:  #f1f1f1;\n",
              "        }    #T_c9854738_8ac9_11ea_9945_0242ac1c0002row5_col6 {\n",
              "            background-color:  #ea7b60;\n",
              "            color:  #000000;\n",
              "        }    #T_c9854738_8ac9_11ea_9945_0242ac1c0002row5_col7 {\n",
              "            background-color:  #6180e9;\n",
              "            color:  #000000;\n",
              "        }    #T_c9854738_8ac9_11ea_9945_0242ac1c0002row5_col8 {\n",
              "            background-color:  #7699f6;\n",
              "            color:  #000000;\n",
              "        }    #T_c9854738_8ac9_11ea_9945_0242ac1c0002row5_col9 {\n",
              "            background-color:  #7597f6;\n",
              "            color:  #000000;\n",
              "        }    #T_c9854738_8ac9_11ea_9945_0242ac1c0002row5_col10 {\n",
              "            background-color:  #4e68d8;\n",
              "            color:  #000000;\n",
              "        }    #T_c9854738_8ac9_11ea_9945_0242ac1c0002row6_col0 {\n",
              "            background-color:  #799cf8;\n",
              "            color:  #000000;\n",
              "        }    #T_c9854738_8ac9_11ea_9945_0242ac1c0002row6_col1 {\n",
              "            background-color:  #6c8ff1;\n",
              "            color:  #000000;\n",
              "        }    #T_c9854738_8ac9_11ea_9945_0242ac1c0002row6_col2 {\n",
              "            background-color:  #b9d0f9;\n",
              "            color:  #000000;\n",
              "        }    #T_c9854738_8ac9_11ea_9945_0242ac1c0002row6_col3 {\n",
              "            background-color:  #c1d4f4;\n",
              "            color:  #000000;\n",
              "        }    #T_c9854738_8ac9_11ea_9945_0242ac1c0002row6_col4 {\n",
              "            background-color:  #a3c2fe;\n",
              "            color:  #000000;\n",
              "        }    #T_c9854738_8ac9_11ea_9945_0242ac1c0002row6_col5 {\n",
              "            background-color:  #e97a5f;\n",
              "            color:  #000000;\n",
              "        }    #T_c9854738_8ac9_11ea_9945_0242ac1c0002row6_col6 {\n",
              "            background-color:  #b40426;\n",
              "            color:  #f1f1f1;\n",
              "        }    #T_c9854738_8ac9_11ea_9945_0242ac1c0002row6_col7 {\n",
              "            background-color:  #6485ec;\n",
              "            color:  #000000;\n",
              "        }    #T_c9854738_8ac9_11ea_9945_0242ac1c0002row6_col8 {\n",
              "            background-color:  #6788ee;\n",
              "            color:  #000000;\n",
              "        }    #T_c9854738_8ac9_11ea_9945_0242ac1c0002row6_col9 {\n",
              "            background-color:  #6282ea;\n",
              "            color:  #000000;\n",
              "        }    #T_c9854738_8ac9_11ea_9945_0242ac1c0002row6_col10 {\n",
              "            background-color:  #516ddb;\n",
              "            color:  #000000;\n",
              "        }    #T_c9854738_8ac9_11ea_9945_0242ac1c0002row7_col0 {\n",
              "            background-color:  #4c66d6;\n",
              "            color:  #000000;\n",
              "        }    #T_c9854738_8ac9_11ea_9945_0242ac1c0002row7_col1 {\n",
              "            background-color:  #3c4ec2;\n",
              "            color:  #f1f1f1;\n",
              "        }    #T_c9854738_8ac9_11ea_9945_0242ac1c0002row7_col2 {\n",
              "            background-color:  #7295f4;\n",
              "            color:  #000000;\n",
              "        }    #T_c9854738_8ac9_11ea_9945_0242ac1c0002row7_col3 {\n",
              "            background-color:  #7a9df8;\n",
              "            color:  #000000;\n",
              "        }    #T_c9854738_8ac9_11ea_9945_0242ac1c0002row7_col4 {\n",
              "            background-color:  #6b8df0;\n",
              "            color:  #000000;\n",
              "        }    #T_c9854738_8ac9_11ea_9945_0242ac1c0002row7_col5 {\n",
              "            background-color:  #5a78e4;\n",
              "            color:  #000000;\n",
              "        }    #T_c9854738_8ac9_11ea_9945_0242ac1c0002row7_col6 {\n",
              "            background-color:  #5d7ce6;\n",
              "            color:  #000000;\n",
              "        }    #T_c9854738_8ac9_11ea_9945_0242ac1c0002row7_col7 {\n",
              "            background-color:  #b40426;\n",
              "            color:  #f1f1f1;\n",
              "        }    #T_c9854738_8ac9_11ea_9945_0242ac1c0002row7_col8 {\n",
              "            background-color:  #e8765c;\n",
              "            color:  #000000;\n",
              "        }    #T_c9854738_8ac9_11ea_9945_0242ac1c0002row7_col9 {\n",
              "            background-color:  #b3cdfb;\n",
              "            color:  #000000;\n",
              "        }    #T_c9854738_8ac9_11ea_9945_0242ac1c0002row7_col10 {\n",
              "            background-color:  #84a7fc;\n",
              "            color:  #000000;\n",
              "        }    #T_c9854738_8ac9_11ea_9945_0242ac1c0002row8_col0 {\n",
              "            background-color:  #3b4cc0;\n",
              "            color:  #f1f1f1;\n",
              "        }    #T_c9854738_8ac9_11ea_9945_0242ac1c0002row8_col1 {\n",
              "            background-color:  #3b4cc0;\n",
              "            color:  #f1f1f1;\n",
              "        }    #T_c9854738_8ac9_11ea_9945_0242ac1c0002row8_col2 {\n",
              "            background-color:  #3b4cc0;\n",
              "            color:  #f1f1f1;\n",
              "        }    #T_c9854738_8ac9_11ea_9945_0242ac1c0002row8_col3 {\n",
              "            background-color:  #3e51c5;\n",
              "            color:  #f1f1f1;\n",
              "        }    #T_c9854738_8ac9_11ea_9945_0242ac1c0002row8_col4 {\n",
              "            background-color:  #485fd1;\n",
              "            color:  #f1f1f1;\n",
              "        }    #T_c9854738_8ac9_11ea_9945_0242ac1c0002row8_col5 {\n",
              "            background-color:  #5e7de7;\n",
              "            color:  #000000;\n",
              "        }    #T_c9854738_8ac9_11ea_9945_0242ac1c0002row8_col6 {\n",
              "            background-color:  #4b64d5;\n",
              "            color:  #f1f1f1;\n",
              "        }    #T_c9854738_8ac9_11ea_9945_0242ac1c0002row8_col7 {\n",
              "            background-color:  #ea7b60;\n",
              "            color:  #000000;\n",
              "        }    #T_c9854738_8ac9_11ea_9945_0242ac1c0002row8_col8 {\n",
              "            background-color:  #b40426;\n",
              "            color:  #f1f1f1;\n",
              "        }    #T_c9854738_8ac9_11ea_9945_0242ac1c0002row8_col9 {\n",
              "            background-color:  #f7a688;\n",
              "            color:  #000000;\n",
              "        }    #T_c9854738_8ac9_11ea_9945_0242ac1c0002row8_col10 {\n",
              "            background-color:  #a7c5fe;\n",
              "            color:  #000000;\n",
              "        }    #T_c9854738_8ac9_11ea_9945_0242ac1c0002row9_col0 {\n",
              "            background-color:  #4961d2;\n",
              "            color:  #f1f1f1;\n",
              "        }    #T_c9854738_8ac9_11ea_9945_0242ac1c0002row9_col1 {\n",
              "            background-color:  #5673e0;\n",
              "            color:  #000000;\n",
              "        }    #T_c9854738_8ac9_11ea_9945_0242ac1c0002row9_col2 {\n",
              "            background-color:  #4257c9;\n",
              "            color:  #f1f1f1;\n",
              "        }    #T_c9854738_8ac9_11ea_9945_0242ac1c0002row9_col3 {\n",
              "            background-color:  #4961d2;\n",
              "            color:  #f1f1f1;\n",
              "        }    #T_c9854738_8ac9_11ea_9945_0242ac1c0002row9_col4 {\n",
              "            background-color:  #3b4cc0;\n",
              "            color:  #f1f1f1;\n",
              "        }    #T_c9854738_8ac9_11ea_9945_0242ac1c0002row9_col5 {\n",
              "            background-color:  #6788ee;\n",
              "            color:  #000000;\n",
              "        }    #T_c9854738_8ac9_11ea_9945_0242ac1c0002row9_col6 {\n",
              "            background-color:  #516ddb;\n",
              "            color:  #000000;\n",
              "        }    #T_c9854738_8ac9_11ea_9945_0242ac1c0002row9_col7 {\n",
              "            background-color:  #aec9fc;\n",
              "            color:  #000000;\n",
              "        }    #T_c9854738_8ac9_11ea_9945_0242ac1c0002row9_col8 {\n",
              "            background-color:  #f6a283;\n",
              "            color:  #000000;\n",
              "        }    #T_c9854738_8ac9_11ea_9945_0242ac1c0002row9_col9 {\n",
              "            background-color:  #b40426;\n",
              "            color:  #f1f1f1;\n",
              "        }    #T_c9854738_8ac9_11ea_9945_0242ac1c0002row9_col10 {\n",
              "            background-color:  #a5c3fe;\n",
              "            color:  #000000;\n",
              "        }    #T_c9854738_8ac9_11ea_9945_0242ac1c0002row10_col0 {\n",
              "            background-color:  #5a78e4;\n",
              "            color:  #000000;\n",
              "        }    #T_c9854738_8ac9_11ea_9945_0242ac1c0002row10_col1 {\n",
              "            background-color:  #3d50c3;\n",
              "            color:  #f1f1f1;\n",
              "        }    #T_c9854738_8ac9_11ea_9945_0242ac1c0002row10_col2 {\n",
              "            background-color:  #3b4cc0;\n",
              "            color:  #f1f1f1;\n",
              "        }    #T_c9854738_8ac9_11ea_9945_0242ac1c0002row10_col3 {\n",
              "            background-color:  #3b4cc0;\n",
              "            color:  #f1f1f1;\n",
              "        }    #T_c9854738_8ac9_11ea_9945_0242ac1c0002row10_col4 {\n",
              "            background-color:  #4257c9;\n",
              "            color:  #f1f1f1;\n",
              "        }    #T_c9854738_8ac9_11ea_9945_0242ac1c0002row10_col5 {\n",
              "            background-color:  #3b4cc0;\n",
              "            color:  #f1f1f1;\n",
              "        }    #T_c9854738_8ac9_11ea_9945_0242ac1c0002row10_col6 {\n",
              "            background-color:  #3b4cc0;\n",
              "            color:  #f1f1f1;\n",
              "        }    #T_c9854738_8ac9_11ea_9945_0242ac1c0002row10_col7 {\n",
              "            background-color:  #7699f6;\n",
              "            color:  #000000;\n",
              "        }    #T_c9854738_8ac9_11ea_9945_0242ac1c0002row10_col8 {\n",
              "            background-color:  #abc8fd;\n",
              "            color:  #000000;\n",
              "        }    #T_c9854738_8ac9_11ea_9945_0242ac1c0002row10_col9 {\n",
              "            background-color:  #9ebeff;\n",
              "            color:  #000000;\n",
              "        }    #T_c9854738_8ac9_11ea_9945_0242ac1c0002row10_col10 {\n",
              "            background-color:  #b40426;\n",
              "            color:  #f1f1f1;\n",
              "        }</style><table id=\"T_c9854738_8ac9_11ea_9945_0242ac1c0002\" ><thead>    <tr>        <th class=\"blank level0\" ></th>        <th class=\"col_heading level0 col0\" >age</th>        <th class=\"col_heading level0 col1\" >gender</th>        <th class=\"col_heading level0 col2\" >tot_bilirubin</th>        <th class=\"col_heading level0 col3\" >direct_bilirubin</th>        <th class=\"col_heading level0 col4\" >tot_proteins</th>        <th class=\"col_heading level0 col5\" >albumin</th>        <th class=\"col_heading level0 col6\" >ag_ratio</th>        <th class=\"col_heading level0 col7\" >sgpt</th>        <th class=\"col_heading level0 col8\" >sgot</th>        <th class=\"col_heading level0 col9\" >alkphos</th>        <th class=\"col_heading level0 col10\" >is_patient</th>    </tr></thead><tbody>\n",
              "                <tr>\n",
              "                        <th id=\"T_c9854738_8ac9_11ea_9945_0242ac1c0002level0_row0\" class=\"row_heading level0 row0\" >age</th>\n",
              "                        <td id=\"T_c9854738_8ac9_11ea_9945_0242ac1c0002row0_col0\" class=\"data row0 col0\" >1.000000</td>\n",
              "                        <td id=\"T_c9854738_8ac9_11ea_9945_0242ac1c0002row0_col1\" class=\"data row0 col1\" >0.056560</td>\n",
              "                        <td id=\"T_c9854738_8ac9_11ea_9945_0242ac1c0002row0_col2\" class=\"data row0 col2\" >0.011763</td>\n",
              "                        <td id=\"T_c9854738_8ac9_11ea_9945_0242ac1c0002row0_col3\" class=\"data row0 col3\" >0.007529</td>\n",
              "                        <td id=\"T_c9854738_8ac9_11ea_9945_0242ac1c0002row0_col4\" class=\"data row0 col4\" >0.080425</td>\n",
              "                        <td id=\"T_c9854738_8ac9_11ea_9945_0242ac1c0002row0_col5\" class=\"data row0 col5\" >-0.086883</td>\n",
              "                        <td id=\"T_c9854738_8ac9_11ea_9945_0242ac1c0002row0_col6\" class=\"data row0 col6\" >-0.019910</td>\n",
              "                        <td id=\"T_c9854738_8ac9_11ea_9945_0242ac1c0002row0_col7\" class=\"data row0 col7\" >-0.187461</td>\n",
              "                        <td id=\"T_c9854738_8ac9_11ea_9945_0242ac1c0002row0_col8\" class=\"data row0 col8\" >-0.265924</td>\n",
              "                        <td id=\"T_c9854738_8ac9_11ea_9945_0242ac1c0002row0_col9\" class=\"data row0 col9\" >-0.203418</td>\n",
              "                        <td id=\"T_c9854738_8ac9_11ea_9945_0242ac1c0002row0_col10\" class=\"data row0 col10\" >-0.137351</td>\n",
              "            </tr>\n",
              "            <tr>\n",
              "                        <th id=\"T_c9854738_8ac9_11ea_9945_0242ac1c0002level0_row1\" class=\"row_heading level0 row1\" >gender</th>\n",
              "                        <td id=\"T_c9854738_8ac9_11ea_9945_0242ac1c0002row1_col0\" class=\"data row1 col0\" >0.056560</td>\n",
              "                        <td id=\"T_c9854738_8ac9_11ea_9945_0242ac1c0002row1_col1\" class=\"data row1 col1\" >1.000000</td>\n",
              "                        <td id=\"T_c9854738_8ac9_11ea_9945_0242ac1c0002row1_col2\" class=\"data row1 col2\" >0.089291</td>\n",
              "                        <td id=\"T_c9854738_8ac9_11ea_9945_0242ac1c0002row1_col3\" class=\"data row1 col3\" >0.100436</td>\n",
              "                        <td id=\"T_c9854738_8ac9_11ea_9945_0242ac1c0002row1_col4\" class=\"data row1 col4\" >-0.027496</td>\n",
              "                        <td id=\"T_c9854738_8ac9_11ea_9945_0242ac1c0002row1_col5\" class=\"data row1 col5\" >0.082332</td>\n",
              "                        <td id=\"T_c9854738_8ac9_11ea_9945_0242ac1c0002row1_col6\" class=\"data row1 col6\" >0.080336</td>\n",
              "                        <td id=\"T_c9854738_8ac9_11ea_9945_0242ac1c0002row1_col7\" class=\"data row1 col7\" >-0.089121</td>\n",
              "                        <td id=\"T_c9854738_8ac9_11ea_9945_0242ac1c0002row1_col8\" class=\"data row1 col8\" >-0.093799</td>\n",
              "                        <td id=\"T_c9854738_8ac9_11ea_9945_0242ac1c0002row1_col9\" class=\"data row1 col9\" >0.008541</td>\n",
              "                        <td id=\"T_c9854738_8ac9_11ea_9945_0242ac1c0002row1_col10\" class=\"data row1 col10\" >-0.082416</td>\n",
              "            </tr>\n",
              "            <tr>\n",
              "                        <th id=\"T_c9854738_8ac9_11ea_9945_0242ac1c0002level0_row2\" class=\"row_heading level0 row2\" >tot_bilirubin</th>\n",
              "                        <td id=\"T_c9854738_8ac9_11ea_9945_0242ac1c0002row2_col0\" class=\"data row2 col0\" >0.011763</td>\n",
              "                        <td id=\"T_c9854738_8ac9_11ea_9945_0242ac1c0002row2_col1\" class=\"data row2 col1\" >0.089291</td>\n",
              "                        <td id=\"T_c9854738_8ac9_11ea_9945_0242ac1c0002row2_col2\" class=\"data row2 col2\" >1.000000</td>\n",
              "                        <td id=\"T_c9854738_8ac9_11ea_9945_0242ac1c0002row2_col3\" class=\"data row2 col3\" >0.874618</td>\n",
              "                        <td id=\"T_c9854738_8ac9_11ea_9945_0242ac1c0002row2_col4\" class=\"data row2 col4\" >0.206669</td>\n",
              "                        <td id=\"T_c9854738_8ac9_11ea_9945_0242ac1c0002row2_col5\" class=\"data row2 col5\" >0.214065</td>\n",
              "                        <td id=\"T_c9854738_8ac9_11ea_9945_0242ac1c0002row2_col6\" class=\"data row2 col6\" >0.237831</td>\n",
              "                        <td id=\"T_c9854738_8ac9_11ea_9945_0242ac1c0002row2_col7\" class=\"data row2 col7\" >-0.008099</td>\n",
              "                        <td id=\"T_c9854738_8ac9_11ea_9945_0242ac1c0002row2_col8\" class=\"data row2 col8\" >-0.222250</td>\n",
              "                        <td id=\"T_c9854738_8ac9_11ea_9945_0242ac1c0002row2_col9\" class=\"data row2 col9\" >-0.192539</td>\n",
              "                        <td id=\"T_c9854738_8ac9_11ea_9945_0242ac1c0002row2_col10\" class=\"data row2 col10\" >-0.220208</td>\n",
              "            </tr>\n",
              "            <tr>\n",
              "                        <th id=\"T_c9854738_8ac9_11ea_9945_0242ac1c0002level0_row3\" class=\"row_heading level0 row3\" >direct_bilirubin</th>\n",
              "                        <td id=\"T_c9854738_8ac9_11ea_9945_0242ac1c0002row3_col0\" class=\"data row3 col0\" >0.007529</td>\n",
              "                        <td id=\"T_c9854738_8ac9_11ea_9945_0242ac1c0002row3_col1\" class=\"data row3 col1\" >0.100436</td>\n",
              "                        <td id=\"T_c9854738_8ac9_11ea_9945_0242ac1c0002row3_col2\" class=\"data row3 col2\" >0.874618</td>\n",
              "                        <td id=\"T_c9854738_8ac9_11ea_9945_0242ac1c0002row3_col3\" class=\"data row3 col3\" >1.000000</td>\n",
              "                        <td id=\"T_c9854738_8ac9_11ea_9945_0242ac1c0002row3_col4\" class=\"data row3 col4\" >0.234939</td>\n",
              "                        <td id=\"T_c9854738_8ac9_11ea_9945_0242ac1c0002row3_col5\" class=\"data row3 col5\" >0.233894</td>\n",
              "                        <td id=\"T_c9854738_8ac9_11ea_9945_0242ac1c0002row3_col6\" class=\"data row3 col6\" >0.257544</td>\n",
              "                        <td id=\"T_c9854738_8ac9_11ea_9945_0242ac1c0002row3_col7\" class=\"data row3 col7\" >-0.000139</td>\n",
              "                        <td id=\"T_c9854738_8ac9_11ea_9945_0242ac1c0002row3_col8\" class=\"data row3 col8\" >-0.228531</td>\n",
              "                        <td id=\"T_c9854738_8ac9_11ea_9945_0242ac1c0002row3_col9\" class=\"data row3 col9\" >-0.186023</td>\n",
              "                        <td id=\"T_c9854738_8ac9_11ea_9945_0242ac1c0002row3_col10\" class=\"data row3 col10\" >-0.246046</td>\n",
              "            </tr>\n",
              "            <tr>\n",
              "                        <th id=\"T_c9854738_8ac9_11ea_9945_0242ac1c0002level0_row4\" class=\"row_heading level0 row4\" >tot_proteins</th>\n",
              "                        <td id=\"T_c9854738_8ac9_11ea_9945_0242ac1c0002row4_col0\" class=\"data row4 col0\" >0.080425</td>\n",
              "                        <td id=\"T_c9854738_8ac9_11ea_9945_0242ac1c0002row4_col1\" class=\"data row4 col1\" >-0.027496</td>\n",
              "                        <td id=\"T_c9854738_8ac9_11ea_9945_0242ac1c0002row4_col2\" class=\"data row4 col2\" >0.206669</td>\n",
              "                        <td id=\"T_c9854738_8ac9_11ea_9945_0242ac1c0002row4_col3\" class=\"data row4 col3\" >0.234939</td>\n",
              "                        <td id=\"T_c9854738_8ac9_11ea_9945_0242ac1c0002row4_col4\" class=\"data row4 col4\" >1.000000</td>\n",
              "                        <td id=\"T_c9854738_8ac9_11ea_9945_0242ac1c0002row4_col5\" class=\"data row4 col5\" >0.125680</td>\n",
              "                        <td id=\"T_c9854738_8ac9_11ea_9945_0242ac1c0002row4_col6\" class=\"data row4 col6\" >0.167196</td>\n",
              "                        <td id=\"T_c9854738_8ac9_11ea_9945_0242ac1c0002row4_col7\" class=\"data row4 col7\" >-0.028514</td>\n",
              "                        <td id=\"T_c9854738_8ac9_11ea_9945_0242ac1c0002row4_col8\" class=\"data row4 col8\" >-0.165453</td>\n",
              "                        <td id=\"T_c9854738_8ac9_11ea_9945_0242ac1c0002row4_col9\" class=\"data row4 col9\" >-0.217864</td>\n",
              "                        <td id=\"T_c9854738_8ac9_11ea_9945_0242ac1c0002row4_col10\" class=\"data row4 col10\" >-0.184866</td>\n",
              "            </tr>\n",
              "            <tr>\n",
              "                        <th id=\"T_c9854738_8ac9_11ea_9945_0242ac1c0002level0_row5\" class=\"row_heading level0 row5\" >albumin</th>\n",
              "                        <td id=\"T_c9854738_8ac9_11ea_9945_0242ac1c0002row5_col0\" class=\"data row5 col0\" >-0.086883</td>\n",
              "                        <td id=\"T_c9854738_8ac9_11ea_9945_0242ac1c0002row5_col1\" class=\"data row5 col1\" >0.082332</td>\n",
              "                        <td id=\"T_c9854738_8ac9_11ea_9945_0242ac1c0002row5_col2\" class=\"data row5 col2\" >0.214065</td>\n",
              "                        <td id=\"T_c9854738_8ac9_11ea_9945_0242ac1c0002row5_col3\" class=\"data row5 col3\" >0.233894</td>\n",
              "                        <td id=\"T_c9854738_8ac9_11ea_9945_0242ac1c0002row5_col4\" class=\"data row5 col4\" >0.125680</td>\n",
              "                        <td id=\"T_c9854738_8ac9_11ea_9945_0242ac1c0002row5_col5\" class=\"data row5 col5\" >1.000000</td>\n",
              "                        <td id=\"T_c9854738_8ac9_11ea_9945_0242ac1c0002row5_col6\" class=\"data row5 col6\" >0.791966</td>\n",
              "                        <td id=\"T_c9854738_8ac9_11ea_9945_0242ac1c0002row5_col7\" class=\"data row5 col7\" >-0.042518</td>\n",
              "                        <td id=\"T_c9854738_8ac9_11ea_9945_0242ac1c0002row5_col8\" class=\"data row5 col8\" >-0.029742</td>\n",
              "                        <td id=\"T_c9854738_8ac9_11ea_9945_0242ac1c0002row5_col9\" class=\"data row5 col9\" >0.004184</td>\n",
              "                        <td id=\"T_c9854738_8ac9_11ea_9945_0242ac1c0002row5_col10\" class=\"data row5 col10\" >-0.163416</td>\n",
              "            </tr>\n",
              "            <tr>\n",
              "                        <th id=\"T_c9854738_8ac9_11ea_9945_0242ac1c0002level0_row6\" class=\"row_heading level0 row6\" >ag_ratio</th>\n",
              "                        <td id=\"T_c9854738_8ac9_11ea_9945_0242ac1c0002row6_col0\" class=\"data row6 col0\" >-0.019910</td>\n",
              "                        <td id=\"T_c9854738_8ac9_11ea_9945_0242ac1c0002row6_col1\" class=\"data row6 col1\" >0.080336</td>\n",
              "                        <td id=\"T_c9854738_8ac9_11ea_9945_0242ac1c0002row6_col2\" class=\"data row6 col2\" >0.237831</td>\n",
              "                        <td id=\"T_c9854738_8ac9_11ea_9945_0242ac1c0002row6_col3\" class=\"data row6 col3\" >0.257544</td>\n",
              "                        <td id=\"T_c9854738_8ac9_11ea_9945_0242ac1c0002row6_col4\" class=\"data row6 col4\" >0.167196</td>\n",
              "                        <td id=\"T_c9854738_8ac9_11ea_9945_0242ac1c0002row6_col5\" class=\"data row6 col5\" >0.791966</td>\n",
              "                        <td id=\"T_c9854738_8ac9_11ea_9945_0242ac1c0002row6_col6\" class=\"data row6 col6\" >1.000000</td>\n",
              "                        <td id=\"T_c9854738_8ac9_11ea_9945_0242ac1c0002row6_col7\" class=\"data row6 col7\" >-0.025645</td>\n",
              "                        <td id=\"T_c9854738_8ac9_11ea_9945_0242ac1c0002row6_col8\" class=\"data row6 col8\" >-0.085290</td>\n",
              "                        <td id=\"T_c9854738_8ac9_11ea_9945_0242ac1c0002row6_col9\" class=\"data row6 col9\" >-0.062993</td>\n",
              "                        <td id=\"T_c9854738_8ac9_11ea_9945_0242ac1c0002row6_col10\" class=\"data row6 col10\" >-0.151934</td>\n",
              "            </tr>\n",
              "            <tr>\n",
              "                        <th id=\"T_c9854738_8ac9_11ea_9945_0242ac1c0002level0_row7\" class=\"row_heading level0 row7\" >sgpt</th>\n",
              "                        <td id=\"T_c9854738_8ac9_11ea_9945_0242ac1c0002row7_col0\" class=\"data row7 col0\" >-0.187461</td>\n",
              "                        <td id=\"T_c9854738_8ac9_11ea_9945_0242ac1c0002row7_col1\" class=\"data row7 col1\" >-0.089121</td>\n",
              "                        <td id=\"T_c9854738_8ac9_11ea_9945_0242ac1c0002row7_col2\" class=\"data row7 col2\" >-0.008099</td>\n",
              "                        <td id=\"T_c9854738_8ac9_11ea_9945_0242ac1c0002row7_col3\" class=\"data row7 col3\" >-0.000139</td>\n",
              "                        <td id=\"T_c9854738_8ac9_11ea_9945_0242ac1c0002row7_col4\" class=\"data row7 col4\" >-0.028514</td>\n",
              "                        <td id=\"T_c9854738_8ac9_11ea_9945_0242ac1c0002row7_col5\" class=\"data row7 col5\" >-0.042518</td>\n",
              "                        <td id=\"T_c9854738_8ac9_11ea_9945_0242ac1c0002row7_col6\" class=\"data row7 col6\" >-0.025645</td>\n",
              "                        <td id=\"T_c9854738_8ac9_11ea_9945_0242ac1c0002row7_col7\" class=\"data row7 col7\" >1.000000</td>\n",
              "                        <td id=\"T_c9854738_8ac9_11ea_9945_0242ac1c0002row7_col8\" class=\"data row7 col8\" >0.784053</td>\n",
              "                        <td id=\"T_c9854738_8ac9_11ea_9945_0242ac1c0002row7_col9\" class=\"data row7 col9\" >0.223185</td>\n",
              "                        <td id=\"T_c9854738_8ac9_11ea_9945_0242ac1c0002row7_col10\" class=\"data row7 col10\" >0.035008</td>\n",
              "            </tr>\n",
              "            <tr>\n",
              "                        <th id=\"T_c9854738_8ac9_11ea_9945_0242ac1c0002level0_row8\" class=\"row_heading level0 row8\" >sgot</th>\n",
              "                        <td id=\"T_c9854738_8ac9_11ea_9945_0242ac1c0002row8_col0\" class=\"data row8 col0\" >-0.265924</td>\n",
              "                        <td id=\"T_c9854738_8ac9_11ea_9945_0242ac1c0002row8_col1\" class=\"data row8 col1\" >-0.093799</td>\n",
              "                        <td id=\"T_c9854738_8ac9_11ea_9945_0242ac1c0002row8_col2\" class=\"data row8 col2\" >-0.222250</td>\n",
              "                        <td id=\"T_c9854738_8ac9_11ea_9945_0242ac1c0002row8_col3\" class=\"data row8 col3\" >-0.228531</td>\n",
              "                        <td id=\"T_c9854738_8ac9_11ea_9945_0242ac1c0002row8_col4\" class=\"data row8 col4\" >-0.165453</td>\n",
              "                        <td id=\"T_c9854738_8ac9_11ea_9945_0242ac1c0002row8_col5\" class=\"data row8 col5\" >-0.029742</td>\n",
              "                        <td id=\"T_c9854738_8ac9_11ea_9945_0242ac1c0002row8_col6\" class=\"data row8 col6\" >-0.085290</td>\n",
              "                        <td id=\"T_c9854738_8ac9_11ea_9945_0242ac1c0002row8_col7\" class=\"data row8 col7\" >0.784053</td>\n",
              "                        <td id=\"T_c9854738_8ac9_11ea_9945_0242ac1c0002row8_col8\" class=\"data row8 col8\" >1.000000</td>\n",
              "                        <td id=\"T_c9854738_8ac9_11ea_9945_0242ac1c0002row8_col9\" class=\"data row8 col9\" >0.654450</td>\n",
              "                        <td id=\"T_c9854738_8ac9_11ea_9945_0242ac1c0002row8_col10\" class=\"data row8 col10\" >0.161388</td>\n",
              "            </tr>\n",
              "            <tr>\n",
              "                        <th id=\"T_c9854738_8ac9_11ea_9945_0242ac1c0002level0_row9\" class=\"row_heading level0 row9\" >alkphos</th>\n",
              "                        <td id=\"T_c9854738_8ac9_11ea_9945_0242ac1c0002row9_col0\" class=\"data row9 col0\" >-0.203418</td>\n",
              "                        <td id=\"T_c9854738_8ac9_11ea_9945_0242ac1c0002row9_col1\" class=\"data row9 col1\" >0.008541</td>\n",
              "                        <td id=\"T_c9854738_8ac9_11ea_9945_0242ac1c0002row9_col2\" class=\"data row9 col2\" >-0.192539</td>\n",
              "                        <td id=\"T_c9854738_8ac9_11ea_9945_0242ac1c0002row9_col3\" class=\"data row9 col3\" >-0.186023</td>\n",
              "                        <td id=\"T_c9854738_8ac9_11ea_9945_0242ac1c0002row9_col4\" class=\"data row9 col4\" >-0.217864</td>\n",
              "                        <td id=\"T_c9854738_8ac9_11ea_9945_0242ac1c0002row9_col5\" class=\"data row9 col5\" >0.004184</td>\n",
              "                        <td id=\"T_c9854738_8ac9_11ea_9945_0242ac1c0002row9_col6\" class=\"data row9 col6\" >-0.062993</td>\n",
              "                        <td id=\"T_c9854738_8ac9_11ea_9945_0242ac1c0002row9_col7\" class=\"data row9 col7\" >0.223185</td>\n",
              "                        <td id=\"T_c9854738_8ac9_11ea_9945_0242ac1c0002row9_col8\" class=\"data row9 col8\" >0.654450</td>\n",
              "                        <td id=\"T_c9854738_8ac9_11ea_9945_0242ac1c0002row9_col9\" class=\"data row9 col9\" >1.000000</td>\n",
              "                        <td id=\"T_c9854738_8ac9_11ea_9945_0242ac1c0002row9_col10\" class=\"data row9 col10\" >0.148265</td>\n",
              "            </tr>\n",
              "            <tr>\n",
              "                        <th id=\"T_c9854738_8ac9_11ea_9945_0242ac1c0002level0_row10\" class=\"row_heading level0 row10\" >is_patient</th>\n",
              "                        <td id=\"T_c9854738_8ac9_11ea_9945_0242ac1c0002row10_col0\" class=\"data row10 col0\" >-0.137351</td>\n",
              "                        <td id=\"T_c9854738_8ac9_11ea_9945_0242ac1c0002row10_col1\" class=\"data row10 col1\" >-0.082416</td>\n",
              "                        <td id=\"T_c9854738_8ac9_11ea_9945_0242ac1c0002row10_col2\" class=\"data row10 col2\" >-0.220208</td>\n",
              "                        <td id=\"T_c9854738_8ac9_11ea_9945_0242ac1c0002row10_col3\" class=\"data row10 col3\" >-0.246046</td>\n",
              "                        <td id=\"T_c9854738_8ac9_11ea_9945_0242ac1c0002row10_col4\" class=\"data row10 col4\" >-0.184866</td>\n",
              "                        <td id=\"T_c9854738_8ac9_11ea_9945_0242ac1c0002row10_col5\" class=\"data row10 col5\" >-0.163416</td>\n",
              "                        <td id=\"T_c9854738_8ac9_11ea_9945_0242ac1c0002row10_col6\" class=\"data row10 col6\" >-0.151934</td>\n",
              "                        <td id=\"T_c9854738_8ac9_11ea_9945_0242ac1c0002row10_col7\" class=\"data row10 col7\" >0.035008</td>\n",
              "                        <td id=\"T_c9854738_8ac9_11ea_9945_0242ac1c0002row10_col8\" class=\"data row10 col8\" >0.161388</td>\n",
              "                        <td id=\"T_c9854738_8ac9_11ea_9945_0242ac1c0002row10_col9\" class=\"data row10 col9\" >0.148265</td>\n",
              "                        <td id=\"T_c9854738_8ac9_11ea_9945_0242ac1c0002row10_col10\" class=\"data row10 col10\" >1.000000</td>\n",
              "            </tr>\n",
              "    </tbody></table>"
            ],
            "text/plain": [
              "<pandas.io.formats.style.Styler at 0x7f039998ff60>"
            ]
          },
          "metadata": {
            "tags": []
          },
          "execution_count": 19
        }
      ]
    },
    {
      "cell_type": "markdown",
      "metadata": {
        "id": "q37oub3molhB",
        "colab_type": "text"
      },
      "source": [
        "**Matrice di correlazione (III Parte) con algoritmo di clustering gerarchico**"
      ]
    },
    {
      "cell_type": "code",
      "metadata": {
        "id": "e5OzojmGhr6H",
        "colab_type": "code",
        "outputId": "88022250-43fc-4077-af6d-06e2d90773a8",
        "colab": {
          "base_uri": "https://localhost:8080/",
          "height": 761
        }
      },
      "source": [
        "import scipy.cluster.hierarchy as spc\n",
        "\n",
        "pdist = spc.distance.pdist(corr)\n",
        "linkage = spc.linkage(pdist, 'single', 'correlation')\n",
        "idx = spc.fcluster(linkage, 0.5*pdist.max(), 'distance')\n",
        "spc.dendrogram(linkage, color_threshold=0)"
      ],
      "execution_count": 20,
      "outputs": [
        {
          "output_type": "execute_result",
          "data": {
            "text/plain": [
              "{'color_list': ['b', 'b', 'b', 'b', 'b', 'b', 'b', 'b', 'b', 'b'],\n",
              " 'dcoord': [[0.0, 0.6495393338620256, 0.6495393338620256, 0.0],\n",
              "  [0.0, 0.758301153590285, 0.758301153590285, 0.6495393338620256],\n",
              "  [0.0, 1.3354849422126556, 1.3354849422126556, 0.758301153590285],\n",
              "  [0.0, 0.31923129306748893, 0.31923129306748893, 0.0],\n",
              "  [0.0, 0.18432949851763383, 0.18432949851763383, 0.0],\n",
              "  [0.0, 1.291467405736211, 1.291467405736211, 0.18432949851763383],\n",
              "  [0.31923129306748893,\n",
              "   1.3676004401495856,\n",
              "   1.3676004401495856,\n",
              "   1.291467405736211],\n",
              "  [0.0, 1.3805880095779994, 1.3805880095779994, 1.3676004401495856],\n",
              "  [0.0, 1.390097746292183, 1.390097746292183, 1.3805880095779994],\n",
              "  [1.3354849422126556,\n",
              "   1.683997486399839,\n",
              "   1.683997486399839,\n",
              "   1.390097746292183]],\n",
              " 'icoord': [[25.0, 25.0, 35.0, 35.0],\n",
              "  [15.0, 15.0, 30.0, 30.0],\n",
              "  [5.0, 5.0, 22.5, 22.5],\n",
              "  [65.0, 65.0, 75.0, 75.0],\n",
              "  [95.0, 95.0, 105.0, 105.0],\n",
              "  [85.0, 85.0, 100.0, 100.0],\n",
              "  [70.0, 70.0, 92.5, 92.5],\n",
              "  [55.0, 55.0, 81.25, 81.25],\n",
              "  [45.0, 45.0, 68.125, 68.125],\n",
              "  [13.75, 13.75, 56.5625, 56.5625]],\n",
              " 'ivl': ['10', '9', '7', '8', '1', '0', '5', '6', '4', '2', '3'],\n",
              " 'leaves': [10, 9, 7, 8, 1, 0, 5, 6, 4, 2, 3]}"
            ]
          },
          "metadata": {
            "tags": []
          },
          "execution_count": 20
        },
        {
          "output_type": "display_data",
          "data": {
            "image/png": "[encoded data removed]",
            "text/plain": [
              "<Figure size 432x288 with 1 Axes>"
            ]
          },
          "metadata": {
            "tags": [],
            "needs_background": "light"
          }
        }
      ]
    },
    {
      "cell_type": "markdown",
      "metadata": {
        "id": "mE5uLc5KQqtA",
        "colab_type": "text"
      },
      "source": [
        "*Esempio della dipendenza tra due grandezze*\n",
        "\n"
      ]
    },
    {
      "cell_type": "code",
      "metadata": {
        "id": "TkA6Ckl9QM1Z",
        "colab_type": "code",
        "outputId": "c3f6cb10-7a65-43a7-d7f9-ae2d9801ad33",
        "colab": {
          "base_uri": "https://localhost:8080/",
          "height": 466
        }
      },
      "source": [
        "gen_totbili = sns.FacetGrid(data, col='gender', row='is_patient', margin_titles=True)\n",
        "gen_totbili.map(plt.scatter, 'direct_bilirubin', 'tot_bilirubin', edgecolor='k')\n",
        "plt.subplots_adjust(top=1)"
      ],
      "execution_count": 21,
      "outputs": [
        {
          "output_type": "display_data",
          "data": {
            "image/png": "[encoded data removed]",
            "text/plain": [
              "<Figure size 432x432 with 4 Axes>"
            ]
          },
          "metadata": {
            "tags": [],
            "needs_background": "light"
          }
        }
      ]
    },
    {
      "cell_type": "markdown",
      "metadata": {
        "id": "rWrX6Cn7QwPB",
        "colab_type": "text"
      },
      "source": [
        "*Esempio dell'indipendenza tra due grandezze*"
      ]
    },
    {
      "cell_type": "code",
      "metadata": {
        "id": "LmZZQV-zQMsi",
        "colab_type": "code",
        "outputId": "e141278d-7828-4cf4-a445-a6240152905c",
        "colab": {
          "base_uri": "https://localhost:8080/",
          "height": 466
        }
      },
      "source": [
        "gen_totbili = sns.FacetGrid(data, col='gender', row='is_patient', margin_titles=True)\n",
        "gen_totbili.map(plt.scatter, 'sgpt', 'tot_bilirubin', edgecolor='k')\n",
        "plt.subplots_adjust(top=1)"
      ],
      "execution_count": 22,
      "outputs": [
        {
          "output_type": "display_data",
          "data": {
            "image/png": "[encoded data removed]",
            "text/plain": [
              "<Figure size 432x432 with 4 Axes>"
            ]
          },
          "metadata": {
            "tags": [],
            "needs_background": "light"
          }
        }
      ]
    },
    {
      "cell_type": "code",
      "metadata": {
        "id": "uQmcBrFD2bRG",
        "colab_type": "code",
        "outputId": "cb911de9-ea57-4448-9993-55c02aa87b55",
        "colab": {
          "base_uri": "https://localhost:8080/",
          "height": 458
        }
      },
      "source": [
        "sns.jointplot(\"tot_bilirubin\", \"direct_bilirubin\", data=data, kind=\"reg\")"
      ],
      "execution_count": 23,
      "outputs": [
        {
          "output_type": "execute_result",
          "data": {
            "text/plain": [
              "<seaborn.axisgrid.JointGrid at 0x7f03959662b0>"
            ]
          },
          "metadata": {
            "tags": []
          },
          "execution_count": 23
        },
        {
          "output_type": "display_data",
          "data": {
            "image/png": "[encoded data removed]",
            "text/plain": [
              "<Figure size 432x432 with 3 Axes>"
            ]
          },
          "metadata": {
            "tags": [],
            "needs_background": "light"
          }
        }
      ]
    },
    {
      "cell_type": "markdown",
      "metadata": {
        "id": "pfQ9TwGETAXS",
        "colab_type": "text"
      },
      "source": [
        "**Cancello attributi correlati**"
      ]
    },
    {
      "cell_type": "code",
      "metadata": {
        "id": "OEG29cEsTHS7",
        "colab_type": "code",
        "colab": {}
      },
      "source": [
        "data = data.drop(['direct_bilirubin', 'albumin', 'sgpt'], axis=1)"
      ],
      "execution_count": 0,
      "outputs": []
    },
    {
      "cell_type": "markdown",
      "metadata": {
        "id": "MUDuHcnRXfyU",
        "colab_type": "text"
      },
      "source": [
        "**Outlier - box plot (1 parte)**"
      ]
    },
    {
      "cell_type": "code",
      "metadata": {
        "id": "qqjPKMY0btWa",
        "colab_type": "code",
        "outputId": "ff794d75-c6bb-4b5d-c057-4c08ffff0029",
        "colab": {
          "base_uri": "https://localhost:8080/",
          "height": 1000
        }
      },
      "source": [
        "#Qui stampo i boxplot per il caso is_patient=1\n",
        "f, ax = plt.subplots(figsize=(11, 9))\n",
        "mask = (data['is_patient']==0)\n",
        "data1 = data.loc[mask, ['tot_bilirubin', 'alkphos', 'sgot']]\n",
        "ax = sns.boxplot(data=data1[['tot_bilirubin', 'alkphos', 'sgot']], orient=\"h\")\n",
        "\n",
        "#Qui stampo i boxplot per il caso is_patient=2\n",
        "f2, ax2 = plt.subplots(figsize=(11, 9))\n",
        "mask = (data['is_patient']==1)\n",
        "data1 = data.loc[mask, ['tot_bilirubin', 'alkphos', 'sgot']]\n",
        "ax2 = sns.boxplot(data=data1[['tot_bilirubin', 'alkphos', 'sgot']], orient=\"h\")\n"
      ],
      "execution_count": 25,
      "outputs": [
        {
          "output_type": "display_data",
          "data": {
            "image/png": "[encoded data removed]",
            "text/plain": [
              "<Figure size 792x648 with 1 Axes>"
            ]
          },
          "metadata": {
            "tags": [],
            "needs_background": "light"
          }
        },
        {
          "output_type": "display_data",
          "data": {
            "image/png": "[encoded data removed]",
            "text/plain": [
              "<Figure size 792x648 with 1 Axes>"
            ]
          },
          "metadata": {
            "tags": [],
            "needs_background": "light"
          }
        }
      ]
    },
    {
      "cell_type": "markdown",
      "metadata": {
        "id": "LavMjG8Nruo0",
        "colab_type": "text"
      },
      "source": [
        "**Outlier - box plot (2 parte)**"
      ]
    },
    {
      "cell_type": "code",
      "metadata": {
        "id": "ERBjqqRKpq38",
        "colab_type": "code",
        "outputId": "ae02abf2-12b3-436b-916c-8171783bc43a",
        "colab": {
          "base_uri": "https://localhost:8080/",
          "height": 1000
        }
      },
      "source": [
        "#Qui stampo i boxplot per il caso is_patient=1\n",
        "f, ax = plt.subplots(figsize=(11, 9))\n",
        "mask = (data['is_patient']==0)\n",
        "data1 = data.loc[mask, ['tot_proteins', 'ag_ratio']]\n",
        "ax = sns.boxplot(data=data1[['tot_proteins', 'ag_ratio']], orient=\"h\")\n",
        "\n",
        "#Qui stampo i boxplot per il caso is_patient=2\n",
        "f2, ax2 = plt.subplots(figsize=(11, 9))\n",
        "mask = (data['is_patient']==1)\n",
        "data1 = data.loc[mask, ['tot_proteins', 'ag_ratio']]\n",
        "ax2 = sns.boxplot(data=data1[['tot_proteins', 'ag_ratio']], orient=\"h\")\n"
      ],
      "execution_count": 26,
      "outputs": [
        {
          "output_type": "display_data",
          "data": {
            "image/png": "[encoded data removed]",
            "text/plain": [
              "<Figure size 792x648 with 1 Axes>"
            ]
          },
          "metadata": {
            "tags": [],
            "needs_background": "light"
          }
        },
        {
          "output_type": "display_data",
          "data": {
            "image/png": "[encoded data removed]",
            "text/plain": [
              "<Figure size 792x648 with 1 Axes>"
            ]
          },
          "metadata": {
            "tags": [],
            "needs_background": "light"
          }
        }
      ]
    },
    {
      "cell_type": "markdown",
      "metadata": {
        "id": "kjbtnZZPotP_",
        "colab_type": "text"
      },
      "source": [
        "**Test and split**"
      ]
    },
    {
      "cell_type": "code",
      "metadata": {
        "id": "tCuDKw1OozA-",
        "colab_type": "code",
        "outputId": "40eb55bd-1ba3-4dc2-c0b6-67a456a1957a",
        "colab": {
          "base_uri": "https://localhost:8080/",
          "height": 85
        }
      },
      "source": [
        "from sklearn.model_selection import train_test_split\n",
        "X = data.drop('is_patient', axis=1).values\n",
        "y = data['is_patient'].values\n",
        "\n",
        "#Divido il set in train e test\n",
        "X_train, X_test, y_train, y_test = train_test_split(X,y,test_size=.2, random_state=0)\n",
        "\n",
        "print(X_train.shape)\n",
        "print(y_train.shape)\n",
        "print(X_test.shape)\n",
        "print(y_test.shape)"
      ],
      "execution_count": 27,
      "outputs": [
        {
          "output_type": "stream",
          "text": [
            "(466, 7)\n",
            "(466,)\n",
            "(117, 7)\n",
            "(117,)\n"
          ],
          "name": "stdout"
        }
      ]
    },
    {
      "cell_type": "markdown",
      "metadata": {
        "id": "eN1T09R5XkmG",
        "colab_type": "text"
      },
      "source": [
        "**Standardize - StandardScaler()**"
      ]
    },
    {
      "cell_type": "code",
      "metadata": {
        "id": "1eJy-Iv9XpoX",
        "colab_type": "code",
        "outputId": "e97108ff-7527-4f58-82c1-a0294ab5c7ac",
        "colab": {
          "base_uri": "https://localhost:8080/",
          "height": 998
        }
      },
      "source": [
        "from sklearn.preprocessing import StandardScaler\n",
        "import seaborn as sns\n",
        "\n",
        "col_names = list(data.columns)\n",
        "\n",
        "# Stampo senza standardizzare\n",
        "\n",
        "fig, (ax1) = plt.subplots(ncols=1, figsize=(10, 8))\n",
        "fig = set(xlim(-15,15))\n",
        "ax1.set_title('Original Distributions')\n",
        "sns.kdeplot(data['age'], ax=ax1)\n",
        "sns.kdeplot(data['tot_bilirubin'], ax=ax1)\n",
        "sns.kdeplot(data['tot_proteins'], ax=ax1)\n",
        "sns.kdeplot(data['ag_ratio'], ax=ax1)\n",
        "sns.kdeplot(data['sgot'], ax=ax1)\n",
        "sns.kdeplot(data['alkphos'], ax=ax1)\n",
        "\n",
        "#Adesso standardizzo\n",
        "ss = StandardScaler()\n",
        "\n",
        "X_train = ss.fit_transform(X_train)\n",
        "X_test = ss.transform(X_test)\n",
        "\n",
        "X=data;\n",
        "\n",
        "X = ss.fit_transform(X)\n",
        "X = pd.DataFrame(X, columns=col_names)\n",
        "fig, (ax1) = plt.subplots(ncols=1, figsize=(10, 8))\n",
        "fig = set(xlim(-15,15))\n",
        "ax1.set_title('After StandardScaler')\n",
        "sns.kdeplot(X['age'], ax=ax1)\n",
        "sns.kdeplot(X['tot_bilirubin'], ax=ax1)\n",
        "sns.kdeplot(X['tot_proteins'], ax=ax1)\n",
        "sns.kdeplot(X['ag_ratio'], ax=ax1)\n",
        "sns.kdeplot(X['sgot'], ax=ax1)\n",
        "sns.kdeplot(X['alkphos'], ax=ax1)\n"
      ],
      "execution_count": 28,
      "outputs": [
        {
          "output_type": "execute_result",
          "data": {
            "text/plain": [
              "<matplotlib.axes._subplots.AxesSubplot at 0x7f039575d7f0>"
            ]
          },
          "metadata": {
            "tags": []
          },
          "execution_count": 28
        },
        {
          "output_type": "display_data",
          "data": {
            "image/png": "[encoded data removed]",
            "text/plain": [
              "<Figure size 720x576 with 1 Axes>"
            ]
          },
          "metadata": {
            "tags": [],
            "needs_background": "light"
          }
        },
        {
          "output_type": "display_data",
          "data": {
            "image/png": "[encoded data removed]",
            "text/plain": [
              "<Figure size 720x576 with 1 Axes>"
            ]
          },
          "metadata": {
            "tags": [],
            "needs_background": "light"
          }
        }
      ]
    },
    {
      "cell_type": "markdown",
      "metadata": {
        "id": "-20QoBSvsvLk",
        "colab_type": "text"
      },
      "source": [
        "**PCA (n_components=None)** per vederne la varianza"
      ]
    },
    {
      "cell_type": "code",
      "metadata": {
        "id": "FBnMaSkD6xIq",
        "colab_type": "code",
        "outputId": "e1470edc-6b80-471b-c752-8a938802607d",
        "colab": {
          "base_uri": "https://localhost:8080/",
          "height": 68
        }
      },
      "source": [
        "#Percentuale di varianza rispetto ad ogni componente principale\n",
        "#rispetto alla varianza comulativa di tutte le componenti\n",
        "from sklearn.decomposition import PCA\n",
        "\n",
        "pca = PCA(n_components=None)\n",
        "X_train = pca.fit_transform(X_train)\n",
        "X_test = pca.transform(X_test)\n",
        "explained_variance = pca.explained_variance_ratio_\n",
        "print(\"Explained Variance:\\n\", explained_variance)"
      ],
      "execution_count": 29,
      "outputs": [
        {
          "output_type": "stream",
          "text": [
            "Explained Variance:\n",
            " [0.2903902  0.17530184 0.15084776 0.12498452 0.10872371 0.10345407\n",
            " 0.0462979 ]\n"
          ],
          "name": "stdout"
        }
      ]
    },
    {
      "cell_type": "code",
      "metadata": {
        "id": "dHYH2e2EissR",
        "colab_type": "code",
        "colab": {
          "base_uri": "https://localhost:8080/",
          "height": 514
        },
        "outputId": "4437ff0d-d0ff-4f8b-d906-1429999789a5"
      },
      "source": [
        "plt.figure(figsize=(12,8))\n",
        "plt.step(range(0,7), np.cumsum(pca.explained_variance_ratio_), where='mid')\n",
        "plt.bar(range(0,7), pca.explained_variance_ratio_)\n",
        "plt.ylabel(\"Varianza\")\n",
        "plt.xlabel(\"Componenti principali\")"
      ],
      "execution_count": 37,
      "outputs": [
        {
          "output_type": "execute_result",
          "data": {
            "text/plain": [
              "Text(0.5, 0, 'Componenti principali')"
            ]
          },
          "metadata": {
            "tags": []
          },
          "execution_count": 37
        },
        {
          "output_type": "display_data",
          "data": {
            "image/png": "[encoded data removed]",
            "text/plain": [
              "<Figure size 864x576 with 1 Axes>"
            ]
          },
          "metadata": {
            "tags": [],
            "needs_background": "light"
          }
        }
      ]
    },
    {
      "cell_type": "markdown",
      "metadata": {
        "id": "FIbQ0JRDNdIm",
        "colab_type": "text"
      },
      "source": [
        "**PCA**\n"
      ]
    },
    {
      "cell_type": "code",
      "metadata": {
        "id": "Zf80Ohk2NhuT",
        "colab_type": "code",
        "colab": {}
      },
      "source": [
        "from sklearn.decomposition import PCA\n",
        "\n",
        "pca = PCA(n_components=6)\n",
        "pc_train = pca.fit_transform(X_train)\n",
        "pc_test = pca.fit_transform(X_test)\n"
      ],
      "execution_count": 0,
      "outputs": []
    },
    {
      "cell_type": "markdown",
      "metadata": {
        "id": "hp241x5stqra",
        "colab_type": "text"
      },
      "source": [
        "**K-Fold - LogisticRegression**"
      ]
    },
    {
      "cell_type": "code",
      "metadata": {
        "id": "__w1Jm_qslRk",
        "colab_type": "code",
        "outputId": "bf668646-be28-4474-9728-d71152643b5f",
        "colab": {
          "base_uri": "https://localhost:8080/",
          "height": 241
        }
      },
      "source": [
        "from sklearn.model_selection import StratifiedKFold\n",
        "from sklearn.linear_model import LogisticRegression\n",
        "\n",
        "lr = LogisticRegression()\n",
        "kfold = StratifiedKFold(n_splits=10, random_state=1)\n",
        "scores=[]\n",
        "for k,(train, test) in enumerate(kfold.split(pc_train, y_train)):\n",
        "  lr.fit(pc_train[train], y_train[train])\n",
        "  score = lr.score(pc_train[test], y_train[test])\n",
        "  scores.append(score)\n",
        "  print(\"Fold %d: Accuracy=%.4f\" % (k,score))\n",
        "\n",
        "accuracy = np.array(scores).mean()\n",
        "print(\"Validation accuracy = %.4f\" % accuracy)\n",
        "\n",
        "'''\n",
        "Il numero di esempi appartenenti ad una determinata classe in ogni k-fold potrebbe\n",
        "essere sbilanciata, per questo usiamo la classe StratifiedKFold. Il risultato\n",
        "nell'esempio in questione non cambia di molto le cose\n",
        "'''\n",
        "\n"
      ],
      "execution_count": 0,
      "outputs": [
        {
          "output_type": "stream",
          "text": [
            "Fold 0: Accuracy=0.7021\n",
            "Fold 1: Accuracy=0.7234\n",
            "Fold 2: Accuracy=0.7234\n",
            "Fold 3: Accuracy=0.7234\n",
            "Fold 4: Accuracy=0.7447\n",
            "Fold 5: Accuracy=0.7447\n",
            "Fold 6: Accuracy=0.7391\n",
            "Fold 7: Accuracy=0.6957\n",
            "Fold 8: Accuracy=0.7609\n",
            "Fold 9: Accuracy=0.7391\n",
            "Validation accuracy = 0.7296\n"
          ],
          "name": "stdout"
        },
        {
          "output_type": "execute_result",
          "data": {
            "text/plain": [
              "\"\\nIl numero di esempi appartenenti ad una determinata classe in ogni k-fold potrebbe\\nessere sbilanciata, per questo usiamo la classe StratifiedKFold. Il risultato\\nnell'esempio in questione non cambia di molto le cose\\n\""
            ]
          },
          "metadata": {
            "tags": []
          },
          "execution_count": 30
        }
      ]
    },
    {
      "cell_type": "code",
      "metadata": {
        "id": "ncCEQCCYwkFf",
        "colab_type": "code",
        "outputId": "0b96a159-20d4-451b-bf58-01082d27ef91",
        "colab": {
          "base_uri": "https://localhost:8080/",
          "height": 153
        }
      },
      "source": [
        "from sklearn.model_selection import cross_val_score\n",
        "\n",
        "lr = LogisticRegression()\n",
        "score = cross_val_score(lr, pc_train, y_train, cv=10)\n",
        "print(score)\n",
        "print(score.mean())\n",
        "\n",
        "lr.fit(pc_train, y_train)"
      ],
      "execution_count": 0,
      "outputs": [
        {
          "output_type": "stream",
          "text": [
            "[0.70212766 0.72340426 0.72340426 0.72340426 0.74468085 0.74468085\n",
            " 0.73913043 0.69565217 0.76086957 0.73913043]\n",
            "0.7296484736355227\n"
          ],
          "name": "stdout"
        },
        {
          "output_type": "execute_result",
          "data": {
            "text/plain": [
              "LogisticRegression(C=1.0, class_weight=None, dual=False, fit_intercept=True,\n",
              "                   intercept_scaling=1, l1_ratio=None, max_iter=100,\n",
              "                   multi_class='auto', n_jobs=None, penalty='l2',\n",
              "                   random_state=None, solver='lbfgs', tol=0.0001, verbose=0,\n",
              "                   warm_start=False)"
            ]
          },
          "metadata": {
            "tags": []
          },
          "execution_count": 31
        }
      ]
    },
    {
      "cell_type": "code",
      "metadata": {
        "id": "85Ymb4ubMSfc",
        "colab_type": "code",
        "outputId": "9929d681-93be-4e79-95b7-56b971820924",
        "colab": {
          "base_uri": "https://localhost:8080/",
          "height": 238
        }
      },
      "source": [
        "from sklearn.metrics import accuracy_score,confusion_matrix,classification_report,precision_recall_fscore_support\n",
        "from sklearn.metrics import log_loss\n",
        "\n",
        "y_pred = lr.predict(pc_test)\n",
        "y_pred_proba = lr.predict(pc_test)\n",
        "\n",
        "print(\"Accuracy: \" + str(accuracy_score(y_test, y_pred)))\n",
        "conf_mat = confusion_matrix(y_test, y_pred)\n",
        "print(conf_mat)\n",
        "print(\"Classification Report: \\n\", classification_report(y_test, y_pred))"
      ],
      "execution_count": 0,
      "outputs": [
        {
          "output_type": "stream",
          "text": [
            "Accuracy: 0.7008547008547008\n",
            "[[68 10]\n",
            " [25 14]]\n",
            "Classification Report: \n",
            "               precision    recall  f1-score   support\n",
            "\n",
            "         0.0       0.73      0.87      0.80        78\n",
            "         1.0       0.58      0.36      0.44        39\n",
            "\n",
            "    accuracy                           0.70       117\n",
            "   macro avg       0.66      0.62      0.62       117\n",
            "weighted avg       0.68      0.70      0.68       117\n",
            "\n"
          ],
          "name": "stdout"
        }
      ]
    },
    {
      "cell_type": "markdown",
      "metadata": {
        "id": "o9G81H3h7HSs",
        "colab_type": "text"
      },
      "source": [
        "**Classificazione con diversi modelli predittivi**"
      ]
    },
    {
      "cell_type": "code",
      "metadata": {
        "id": "HXOMKecHA4fS",
        "colab_type": "code",
        "outputId": "2648d3d6-7eae-408e-ea96-ef9bf572cb21",
        "colab": {
          "base_uri": "https://localhost:8080/",
          "height": 136
        }
      },
      "source": [
        "from sklearn.linear_model import LogisticRegression\n",
        "from sklearn.naive_bayes import GaussianNB\n",
        "from sklearn.neighbors import KNeighborsClassifier\n",
        "from sklearn.discriminant_analysis import LinearDiscriminantAnalysis\n",
        "from sklearn.tree import DecisionTreeClassifier\n",
        "from sklearn.svm import SVC\n",
        "from sklearn.ensemble import RandomForestClassifier\n",
        "from sklearn.model_selection import KFold\n",
        "from sklearn.model_selection import cross_val_score\n",
        "\n",
        "models=[]\n",
        "models.append((\"LR\",LogisticRegression()))\n",
        "models.append((\"NB\",GaussianNB()))\n",
        "models.append((\"KNN\",KNeighborsClassifier(n_neighbors=5)))\n",
        "models.append((\"DT\",DecisionTreeClassifier()))\n",
        "models.append((\"SVM\",SVC()))\n",
        "models.append(('LDA', LinearDiscriminantAnalysis()))\n",
        "models.append(('RFC', RandomForestClassifier()))\n",
        "\n",
        "for name, model in models:\n",
        "  kfold = KFold(n_splits=10 , random_state=0)\n",
        "  cv_result = cross_val_score(model, pc_train, y_train, cv=kfold, scoring='accuracy')\n",
        "  print(\"{} ha una accuratezza sul train del: {:0.2f}\".format(name,cv_result.mean()))"
      ],
      "execution_count": 0,
      "outputs": [
        {
          "output_type": "stream",
          "text": [
            "LR ha una accuratezza sul train del: 0.73\n",
            "NB ha una accuratezza sul train del: 0.58\n",
            "KNN ha una accuratezza sul train del: 0.65\n",
            "DT ha una accuratezza sul train del: 0.63\n",
            "SVM ha una accuratezza sul train del: 0.73\n",
            "LDA ha una accuratezza sul train del: 0.72\n",
            "RFC ha una accuratezza sul train del: 0.68\n"
          ],
          "name": "stdout"
        }
      ]
    },
    {
      "cell_type": "markdown",
      "metadata": {
        "id": "_ynWYKerY5zn",
        "colab_type": "text"
      },
      "source": [
        "**Classificazione - (kNN)**"
      ]
    },
    {
      "cell_type": "code",
      "metadata": {
        "id": "z5ba9xgxrprZ",
        "colab_type": "code",
        "outputId": "4e4390ed-7db1-44bc-d988-17d6c68adde9",
        "colab": {
          "base_uri": "https://localhost:8080/",
          "height": 238
        }
      },
      "source": [
        "from sklearn.neighbors import KNeighborsClassifier\n",
        "\n",
        "clf = KNeighborsClassifier(n_neighbors=2)\n",
        "clf.fit(pc_train, y_train)\n",
        "y_test_pred = clf.predict(pc_test);\n",
        "print(accuracy_score(y_test, y_test_pred))\n",
        "p,r,f1,s = precision_recall_fscore_support(y_test,y_test_pred)\n",
        "conf_mat = confusion_matrix(y_test, y_test_pred)\n",
        "print(conf_mat)\n",
        "print(\"Classification Report: \\n\", classification_report(y_test, y_test_pred))"
      ],
      "execution_count": 0,
      "outputs": [
        {
          "output_type": "stream",
          "text": [
            "0.6752136752136753\n",
            "[[77  1]\n",
            " [37  2]]\n",
            "Classification Report: \n",
            "               precision    recall  f1-score   support\n",
            "\n",
            "         0.0       0.68      0.99      0.80        78\n",
            "         1.0       0.67      0.05      0.10        39\n",
            "\n",
            "    accuracy                           0.68       117\n",
            "   macro avg       0.67      0.52      0.45       117\n",
            "weighted avg       0.67      0.68      0.57       117\n",
            "\n"
          ],
          "name": "stdout"
        }
      ]
    },
    {
      "cell_type": "code",
      "metadata": {
        "id": "4eZExOEHy60_",
        "colab_type": "code",
        "outputId": "f4822218-0de4-48aa-9904-e9285696c919",
        "colab": {
          "base_uri": "https://localhost:8080/",
          "height": 376
        }
      },
      "source": [
        "k_values = np.arange(1,9)\n",
        "#train_accuracy = []\n",
        "#test_accuracy = []\n",
        "for i,k in enumerate (k_values):\n",
        "  knn = KNeighborsClassifier(n_neighbors=k)\n",
        "  knn.fit(pc_train, y_train)\n",
        "  train_accuracy.append(knn.score(pc_train, y_train))\n",
        "  test_accuracy.append(knn.score(pc_test, y_test))\n",
        "\n",
        "plt.title('k-NN: Varying Number of Neighbors')\n",
        "plt.plot(k_values, test_accuracy, label='Testing Accuracy')\n",
        "plt.plot(k_values, train_accuracy, label='Training Accuracy')\n",
        "plt.legend()\n",
        "plt.xlabel('Number of Neighbors')\n",
        "plt.ylabel('Accuracy')\n",
        "plt.show()"
      ],
      "execution_count": 0,
      "outputs": [
        {
          "output_type": "display_data",
          "data": {
            "image/png": "[encoded data removed]",
            "text/plain": [
              "<Figure size 576x396 with 1 Axes>"
            ]
          },
          "metadata": {
            "tags": []
          }
        }
      ]
    },
    {
      "cell_type": "markdown",
      "metadata": {
        "id": "3IRy8Z4Y8BU_",
        "colab_type": "text"
      },
      "source": [
        "**Troviamo il miglior classificatore usando GridSearchCV**"
      ]
    },
    {
      "cell_type": "code",
      "metadata": {
        "id": "Ltc4Bqbs8GTE",
        "colab_type": "code",
        "colab": {}
      },
      "source": [
        "params_clfs = list()\n",
        "\n",
        "svm_params=[{'kernel': ['rbf'], 'gamma':[1e-3,1e-4]},\n",
        "            {'kernel': ['linear'], 'C':[1,10,100,1000]}\n",
        "]\n",
        "params_clfs.append((SVC(), svm_params))\n",
        "\n",
        "lr_params = {'penalty':['l1','l2'], 'C':np.logspace(0,4,10)}\n",
        "params_clfs.append((LogisticRegression(),lr_params))\n",
        "\n",
        "clf=DecisionTreeClassifier()\n",
        "dt_params = {'max_features': ['auto', 'sqrt','log2'],\n",
        "             'min_samples_split':[2,3,4,5,6,7,8,9,10,11,12,13,14,15],\n",
        "             'min_samples_leaf':[1],\n",
        "             'random_state':[12]}\n",
        "params_clfs.append((DecisionTreeClassifier(), dt_params))\n",
        "\n",
        "rfc_params = [{'criterion':['gini', 'entropy'],\n",
        "               'max_depth':[5,6,7,8,9,10,11,12],\n",
        "               'max_features':[1,2,3],\n",
        "               'n_estimators': [14,15,16,17,18,19],\n",
        "               'random_state': [7,8,9,10,11,12,13]}]\n",
        "params_clfs.append((RandomForestClassifier(), rfc_params))\n"
      ],
      "execution_count": 0,
      "outputs": []
    },
    {
      "cell_type": "markdown",
      "metadata": {
        "id": "tUl2Fbf03O7X",
        "colab_type": "text"
      },
      "source": [
        "**GridSearchCV per ricerca degli iperparametri (mediante uso di k-Fold)**"
      ]
    },
    {
      "cell_type": "code",
      "metadata": {
        "id": "7eiFKyGN_D0P",
        "colab_type": "code",
        "outputId": "cfa04177-fa43-402e-872c-6a69b4dc155e",
        "colab": {
          "base_uri": "https://localhost:8080/",
          "height": 1000
        }
      },
      "source": [
        "from sklearn.model_selection import GridSearchCV\n",
        "\n",
        "for clf,param in params_clfs:\n",
        "  grid_search = GridSearchCV(clf,param, cv=10)\n",
        "  grid_search.fit(pc_train, y_train)\n",
        "  print(80*\"*\")\n",
        "  print(\"{} GridSearchCV:\".format(clf.__class__.__name__))\n",
        "  print(\"best params:{}\".format(grid_search.best_params_))\n",
        "  test_means = grid_search.cv_results_['mean_test_score']\n",
        "  print('Risultato medio:{:.2f}'.format(np.mean(test_means)))\n",
        "  y_pred = grid_search.predict(pc_test)\n",
        "  print('Milgior parametro:{:.2f}'.format(accuracy_score(y_test,y_pred)))\n",
        "  print('Confusion Matrix:\\n{}'.format(confusion_matrix(y_test,y_pred)))\n",
        "  print('Classification report:\\n{}'.format(classification_report(y_test,y_pred)))\n",
        "  print(80*'*')"
      ],
      "execution_count": 0,
      "outputs": [
        {
          "output_type": "stream",
          "text": [
            "********************************************************************************\n",
            "SVC GridSearchCV:\n",
            "best params:{'gamma': 0.001, 'kernel': 'rbf'}\n",
            "Risultato medio:0.73\n",
            "Milgior parametro:0.67\n",
            "Confusion Matrix:\n",
            "[[78  0]\n",
            " [39  0]]\n",
            "Classification report:\n",
            "              precision    recall  f1-score   support\n",
            "\n",
            "         0.0       0.67      1.00      0.80        78\n",
            "         1.0       0.00      0.00      0.00        39\n",
            "\n",
            "    accuracy                           0.67       117\n",
            "   macro avg       0.33      0.50      0.40       117\n",
            "weighted avg       0.44      0.67      0.53       117\n",
            "\n",
            "********************************************************************************\n",
            "********************************************************************************\n",
            "LogisticRegression GridSearchCV:\n",
            "best params:{'C': 2.7825594022071245, 'penalty': 'l2'}\n",
            "Risultato medio:nan\n",
            "Milgior parametro:0.70\n",
            "Confusion Matrix:\n",
            "[[68 10]\n",
            " [25 14]]\n",
            "Classification report:\n",
            "              precision    recall  f1-score   support\n",
            "\n",
            "         0.0       0.73      0.87      0.80        78\n",
            "         1.0       0.58      0.36      0.44        39\n",
            "\n",
            "    accuracy                           0.70       117\n",
            "   macro avg       0.66      0.62      0.62       117\n",
            "weighted avg       0.68      0.70      0.68       117\n",
            "\n",
            "********************************************************************************\n",
            "********************************************************************************\n",
            "DecisionTreeClassifier GridSearchCV:\n",
            "best params:{'max_features': 'auto', 'min_samples_leaf': 1, 'min_samples_split': 5, 'random_state': 123}\n",
            "Risultato medio:0.63\n",
            "Milgior parametro:0.60\n",
            "Confusion Matrix:\n",
            "[[65 13]\n",
            " [34  5]]\n",
            "Classification report:\n",
            "              precision    recall  f1-score   support\n",
            "\n",
            "         0.0       0.66      0.83      0.73        78\n",
            "         1.0       0.28      0.13      0.18        39\n",
            "\n",
            "    accuracy                           0.60       117\n",
            "   macro avg       0.47      0.48      0.45       117\n",
            "weighted avg       0.53      0.60      0.55       117\n",
            "\n",
            "********************************************************************************\n",
            "********************************************************************************\n",
            "RandomForestClassifier GridSearchCV:\n",
            "best params:{'criterion': 'gini', 'max_depth': 5, 'max_features': 1, 'n_estimators': 16, 'random_state': 12}\n",
            "Risultato medio:0.70\n",
            "Milgior parametro:0.67\n",
            "Confusion Matrix:\n",
            "[[78  0]\n",
            " [39  0]]\n",
            "Classification report:\n",
            "              precision    recall  f1-score   support\n",
            "\n",
            "         0.0       0.67      1.00      0.80        78\n",
            "         1.0       0.00      0.00      0.00        39\n",
            "\n",
            "    accuracy                           0.67       117\n",
            "   macro avg       0.33      0.50      0.40       117\n",
            "weighted avg       0.44      0.67      0.53       117\n",
            "\n",
            "********************************************************************************\n"
          ],
          "name": "stdout"
        }
      ]
    },
    {
      "cell_type": "markdown",
      "metadata": {
        "id": "H_MRt-RAcZdg",
        "colab_type": "text"
      },
      "source": [
        "**LDA**"
      ]
    },
    {
      "cell_type": "code",
      "metadata": {
        "id": "uFdeyeYMcbY-",
        "colab_type": "code",
        "outputId": "bbe370a4-3c8d-49ac-ba9b-e3f9840497d4",
        "colab": {
          "base_uri": "https://localhost:8080/",
          "height": 255
        }
      },
      "source": [
        "clf = LinearDiscriminantAnalysis(n_components=None)\n",
        "clf.fit(pc_train,y_train)\n",
        "y_pred = clf.predict(pc_test)\n",
        "print(\"Accuracy Score: {:.2f}\".format(accuracy_score(y_test, y_pred)))\n",
        "print(\"Confusione matrix:\\n{}\".format(confusion_matrix(y_test,y_pred)))\n",
        "print(\"Classification report:\\n{}\".format(classification_report(y_test,y_pred)))"
      ],
      "execution_count": 0,
      "outputs": [
        {
          "output_type": "stream",
          "text": [
            "Accuracy Score: 0.68\n",
            "Confusione matrix:\n",
            "[[78  0]\n",
            " [37  2]]\n",
            "Classification report:\n",
            "              precision    recall  f1-score   support\n",
            "\n",
            "         0.0       0.68      1.00      0.81        78\n",
            "         1.0       1.00      0.05      0.10        39\n",
            "\n",
            "    accuracy                           0.68       117\n",
            "   macro avg       0.84      0.53      0.45       117\n",
            "weighted avg       0.79      0.68      0.57       117\n",
            "\n"
          ],
          "name": "stdout"
        }
      ]
    },
    {
      "cell_type": "markdown",
      "metadata": {
        "id": "zV2IPFHyLelu",
        "colab_type": "text"
      },
      "source": [
        "**Decision Tree**"
      ]
    },
    {
      "cell_type": "code",
      "metadata": {
        "id": "aKTHoeerLil0",
        "colab_type": "code",
        "outputId": "f1d6d45c-3102-4247-d45f-3c421ca2b7e0",
        "colab": {
          "base_uri": "https://localhost:8080/",
          "height": 255
        }
      },
      "source": [
        "clf = DecisionTreeClassifier(max_features='auto', min_samples_leaf=1, min_samples_split=5, max_depth=3, random_state=12)\n",
        "clf.fit(pc_train, y_train)\n",
        "y_pred = clf.predict(pc_test)\n",
        "print(\"Accuracy Score: {:.2f}\".format(accuracy_score(y_test, y_pred)))\n",
        "print(\"Confusione matrix:\\n{}\".format(confusion_matrix(y_test,y_pred)))\n",
        "print(\"Classification report:\\n{}\".format(classification_report(y_test,y_pred)))"
      ],
      "execution_count": 0,
      "outputs": [
        {
          "output_type": "stream",
          "text": [
            "Accuracy Score: 0.67\n",
            "Confusione matrix:\n",
            "[[78  0]\n",
            " [39  0]]\n",
            "Classification report:\n",
            "              precision    recall  f1-score   support\n",
            "\n",
            "         0.0       0.67      1.00      0.80        78\n",
            "         1.0       0.00      0.00      0.00        39\n",
            "\n",
            "    accuracy                           0.67       117\n",
            "   macro avg       0.33      0.50      0.40       117\n",
            "weighted avg       0.44      0.67      0.53       117\n",
            "\n"
          ],
          "name": "stdout"
        }
      ]
    },
    {
      "cell_type": "markdown",
      "metadata": {
        "id": "a4FSJMJ5Sld7",
        "colab_type": "text"
      },
      "source": [
        "**Plot tree**"
      ]
    },
    {
      "cell_type": "code",
      "metadata": {
        "id": "9211qAnERxYc",
        "colab_type": "code",
        "outputId": "526d2801-40bd-4a33-ba2e-e033010915cf",
        "colab": {
          "base_uri": "https://localhost:8080/",
          "height": 466
        }
      },
      "source": [
        "from sklearn.tree import DecisionTreeClassifier, plot_tree\n",
        "plt.figure(figsize=(10, 8))\n",
        "plot_tree(clf, filled=True)\n",
        "plt.show()"
      ],
      "execution_count": 0,
      "outputs": [
        {
          "output_type": "display_data",
          "data": {
            "image/png": "[encoded data removed]",
            "text/plain": [
              "<Figure size 720x576 with 1 Axes>"
            ]
          },
          "metadata": {
            "tags": [],
            "needs_background": "light"
          }
        }
      ]
    },
    {
      "cell_type": "markdown",
      "metadata": {
        "id": "eZByF01ZQFCW",
        "colab_type": "text"
      },
      "source": [
        "**Random Forest Classifier**"
      ]
    },
    {
      "cell_type": "code",
      "metadata": {
        "id": "nWsBFeYXQJdf",
        "colab_type": "code",
        "outputId": "68fdfb38-4a57-4e35-cc26-1ce824038835",
        "colab": {
          "base_uri": "https://localhost:8080/",
          "height": 544
        }
      },
      "source": [
        "random_forest = RandomForestClassifier(criterion='gini', max_depth=5, max_features=1, n_estimators=16, random_state=12)\n",
        "random_forest.fit(pc_train, y_train)\n",
        "y_pred = random_forest.predict(pc_test)\n",
        "print(\"Accuracy Score: {:.2f}\".format(accuracy_score(y_test, y_pred)))\n",
        "print(\"Confusione matrix:\\n{}\".format(confusion_matrix(y_test,y_pred)))\n",
        "print(\"Classification report:\\n{}\".format(classification_report(y_test,y_pred)))\n",
        "\n",
        "random_forest_score = round(random_forest.score(pc_train, y_train) * 100, 2)\n",
        "random_forest_score_test = round(random_forest.score(pc_test, y_test) * 100, 2)\n",
        "print('Random Forest Score: \\n', random_forest_score)\n",
        "print('Random Forest Test Score: \\n', random_forest_score_test)\n",
        "print('Accuracy: \\n', accuracy_score(y_test,y_pred))\n",
        "print(confusion_matrix(y_test,y_pred))\n",
        "print(classification_report(y_test,y_pred))"
      ],
      "execution_count": 0,
      "outputs": [
        {
          "output_type": "stream",
          "text": [
            "Accuracy Score: 0.67\n",
            "Confusione matrix:\n",
            "[[78  0]\n",
            " [39  0]]\n",
            "Classification report:\n",
            "              precision    recall  f1-score   support\n",
            "\n",
            "         0.0       0.67      1.00      0.80        78\n",
            "         1.0       0.00      0.00      0.00        39\n",
            "\n",
            "    accuracy                           0.67       117\n",
            "   macro avg       0.33      0.50      0.40       117\n",
            "weighted avg       0.44      0.67      0.53       117\n",
            "\n",
            "Random Forest Score: \n",
            " 75.11\n",
            "Random Forest Test Score: \n",
            " 66.67\n",
            "Accuracy: \n",
            " 0.6666666666666666\n",
            "[[78  0]\n",
            " [39  0]]\n",
            "              precision    recall  f1-score   support\n",
            "\n",
            "         0.0       0.67      1.00      0.80        78\n",
            "         1.0       0.00      0.00      0.00        39\n",
            "\n",
            "    accuracy                           0.67       117\n",
            "   macro avg       0.33      0.50      0.40       117\n",
            "weighted avg       0.44      0.67      0.53       117\n",
            "\n"
          ],
          "name": "stdout"
        }
      ]
    },
    {
      "cell_type": "markdown",
      "metadata": {
        "id": "9GkW2YwNtgQf",
        "colab_type": "text"
      },
      "source": [
        "**SVC**"
      ]
    },
    {
      "cell_type": "code",
      "metadata": {
        "id": "FiTOXds8tKYV",
        "colab_type": "code",
        "outputId": "c07d8736-8165-48ea-c0fb-29a007de59d5",
        "colab": {
          "base_uri": "https://localhost:8080/",
          "height": 255
        }
      },
      "source": [
        "best_clf = SVC(gamma=0.001, kernel='rbf')\n",
        "best_clf.fit(pc_train, y_train)\n",
        "y_pred = best_clf.predict(pc_test)\n",
        "print(\"Accuracy Score: {:.2f}\".format(accuracy_score(y_test, y_pred)))\n",
        "print(\"Confusione matrix:\\n{}\".format(confusion_matrix(y_test,y_pred)))\n",
        "print(\"Classification report:\\n{}\".format(classification_report(y_test,y_pred)))"
      ],
      "execution_count": 0,
      "outputs": [
        {
          "output_type": "stream",
          "text": [
            "Accuracy Score: 0.67\n",
            "Confusione matrix:\n",
            "[[78  0]\n",
            " [39  0]]\n",
            "Classification report:\n",
            "              precision    recall  f1-score   support\n",
            "\n",
            "         0.0       0.67      1.00      0.80        78\n",
            "         1.0       0.00      0.00      0.00        39\n",
            "\n",
            "    accuracy                           0.67       117\n",
            "   macro avg       0.33      0.50      0.40       117\n",
            "weighted avg       0.44      0.67      0.53       117\n",
            "\n"
          ],
          "name": "stdout"
        }
      ]
    },
    {
      "cell_type": "markdown",
      "metadata": {
        "id": "Vy4Tyr15tjij",
        "colab_type": "text"
      },
      "source": [
        "**LogisticRegression**"
      ]
    },
    {
      "cell_type": "code",
      "metadata": {
        "id": "yqhdCHZ2NOwr",
        "colab_type": "code",
        "outputId": "4c8a27aa-c965-42e9-8b57-f649c7509f50",
        "colab": {
          "base_uri": "https://localhost:8080/",
          "height": 255
        }
      },
      "source": [
        "best_clf = LogisticRegression(C=21, penalty='l2')\n",
        "best_clf.fit(pc_train, y_train)\n",
        "y_pred = best_clf.predict(pc_test)\n",
        "print(\"Accuracy Score: {:.2f}\".format(accuracy_score(y_test, y_pred)))\n",
        "print(\"Confusione matrix:\\n{}\".format(confusion_matrix(y_test,y_pred)))\n",
        "print(\"Classification report:\\n{}\".format(classification_report(y_test,y_pred)))"
      ],
      "execution_count": 0,
      "outputs": [
        {
          "output_type": "stream",
          "text": [
            "Accuracy Score: 0.69\n",
            "Confusione matrix:\n",
            "[[68 10]\n",
            " [26 13]]\n",
            "Classification report:\n",
            "              precision    recall  f1-score   support\n",
            "\n",
            "         0.0       0.72      0.87      0.79        78\n",
            "         1.0       0.57      0.33      0.42        39\n",
            "\n",
            "    accuracy                           0.69       117\n",
            "   macro avg       0.64      0.60      0.61       117\n",
            "weighted avg       0.67      0.69      0.67       117\n",
            "\n"
          ],
          "name": "stdout"
        }
      ]
    },
    {
      "cell_type": "markdown",
      "metadata": {
        "id": "0l6TAiW0Ulv3",
        "colab_type": "text"
      },
      "source": [
        "**Learning curve**"
      ]
    },
    {
      "cell_type": "code",
      "metadata": {
        "id": "oIbJvr3JSjBf",
        "colab_type": "code",
        "outputId": "dcad8860-f388-4196-ab7d-b34f9d8ac447",
        "colab": {
          "base_uri": "https://localhost:8080/",
          "height": 139
        }
      },
      "source": [
        "from sklearn.model_selection import learning_curve\n",
        "\n",
        "train_sizes, train_scores, test_scores = learning_curve(KNeighborsClassifier(n_neighbors=2),\n",
        "              pc_train, y_train, cv=10, scoring='accuracy', n_jobs=-1, \n",
        "              train_sizes=np.linspace(0.01,1,50), verbose=1)\n",
        "\n",
        "'''\n",
        "I parametri ritornati dalla funzione learning_curve sono:\n",
        "- train_sizes --> numbers of training examples that has been used to generate the learning curve.\n",
        "  Note that the number of ticks might be less than n_ticks because duplicate entries will be removed.\n",
        "- train_scores --> scores on training sets\n",
        "- test_scores --> scores on test set\n",
        "'''"
      ],
      "execution_count": 0,
      "outputs": [
        {
          "output_type": "stream",
          "text": [
            "[learning_curve] Training set sizes: [  4  12  21  29  38  46  54  63  71  80  88  97 105 114 122 131 139 148\n",
            " 156 165 173 181 190 198 207 215 224 232 241 249 258 266 275 283 292 300\n",
            " 308 317 325 334 342 351 359 368 376 385 393 402 410 419]\n"
          ],
          "name": "stdout"
        },
        {
          "output_type": "stream",
          "text": [
            "[Parallel(n_jobs=-1)]: Using backend LokyBackend with 2 concurrent workers.\n",
            "[Parallel(n_jobs=-1)]: Done 500 out of 500 | elapsed:    6.9s finished\n"
          ],
          "name": "stderr"
        },
        {
          "output_type": "execute_result",
          "data": {
            "text/plain": [
              "'\\nI parametri ritornati dalla funzione learning_curve sono:\\n- train_sizes --> numbers of training examples that has been used to generate the learning curve.\\n  Note that the number of ticks might be less than n_ticks because duplicate entries will be removed.\\n- train_scores --> scores on training sets\\n- test_scores --> scores on test set\\n'"
            ]
          },
          "metadata": {
            "tags": []
          },
          "execution_count": 58
        }
      ]
    },
    {
      "cell_type": "code",
      "metadata": {
        "id": "eSXAm1vQUpmH",
        "colab_type": "code",
        "outputId": "a14890a0-be10-41ab-f9ce-9da6551f0c00",
        "colab": {
          "base_uri": "https://localhost:8080/",
          "height": 393
        }
      },
      "source": [
        "train_mean = np.mean(train_scores, axis=1)\n",
        "train_mean\n",
        "\n",
        "train_std = np.std(train_scores, axis=1)\n",
        "train_std\n",
        "\n",
        "test_mean = np.mean(test_scores, axis=1)\n",
        "test_mean\n",
        "\n",
        "test_std = np.std(test_scores, axis=1)\n",
        "test_std\n",
        "\n",
        "plt.plot(train_sizes, train_mean, label= 'Training Score')\n",
        "plt.plot(train_sizes, test_mean, label = 'Cross-Validation Score')\n",
        "plt.fill_between(train_sizes, train_mean-train_std, train_mean+train_std, color='#DDDDDD')\n",
        "plt.fill_between(train_sizes, test_mean-test_std, test_mean+test_std, color='#DDDDDD')\n",
        "\n",
        "plt.title(\"Learning Curve\")\n",
        "plt.xlabel(\"Training Size\")\n",
        "plt.ylabel(\"Accuracy Score\")\n",
        "plt.legend(loc='best')\n"
      ],
      "execution_count": 0,
      "outputs": [
        {
          "output_type": "execute_result",
          "data": {
            "text/plain": [
              "<matplotlib.legend.Legend at 0x7fb9d5c456d8>"
            ]
          },
          "metadata": {
            "tags": []
          },
          "execution_count": 61
        },
        {
          "output_type": "display_data",
          "data": {
            "image/png": "[encoded data removed]",
            "text/plain": [
              "<Figure size 576x396 with 1 Axes>"
            ]
          },
          "metadata": {
            "tags": []
          }
        }
      ]
    },
    {
      "cell_type": "markdown",
      "metadata": {
        "id": "_m2Y6vB_QEey",
        "colab_type": "text"
      },
      "source": [
        "**ROC ve AUC**"
      ]
    },
    {
      "cell_type": "code",
      "metadata": {
        "id": "KJhUJXZ_QMLz",
        "colab_type": "code",
        "outputId": "242d1cdb-5cfe-4b76-c931-a6d7c2e84829",
        "colab": {
          "base_uri": "https://localhost:8080/",
          "height": 512
        }
      },
      "source": [
        "from yellowbrick.classifier import ROCAUC\n",
        "\n",
        "fig, ax = plt.subplots(1,1,figsize=(12,8))\n",
        "roc_auc = ROCAUC(clf, ax=ax)\n",
        "roc_auc.fit(pc_train, y_train)\n",
        "roc_auc.score(pc_test,y_test)\n",
        "\n",
        "roc_auc.poof()"
      ],
      "execution_count": 0,
      "outputs": [
        {
          "output_type": "display_data",
          "data": {
            "image/png": "[encoded data removed]",
            "text/plain": [
              "<Figure size 864x576 with 1 Axes>"
            ]
          },
          "metadata": {
            "tags": []
          }
        }
      ]
    }
  ]
}